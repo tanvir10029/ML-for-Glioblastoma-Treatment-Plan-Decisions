{
 "cells": [
  {
   "cell_type": "markdown",
   "id": "081ba943",
   "metadata": {
    "papermill": {
     "duration": 0.058639,
     "end_time": "2024-05-10T20:43:31.080935",
     "exception": false,
     "start_time": "2024-05-10T20:43:31.022296",
     "status": "completed"
    },
    "tags": []
   },
   "source": [
    "# **Import Libraries**"
   ]
  },
  {
   "cell_type": "code",
   "execution_count": 1,
   "id": "add045dc",
   "metadata": {
    "execution": {
     "iopub.execute_input": "2024-05-10T20:43:31.205921Z",
     "iopub.status.busy": "2024-05-10T20:43:31.200119Z",
     "iopub.status.idle": "2024-05-10T20:43:37.991576Z",
     "shell.execute_reply": "2024-05-10T20:43:37.992205Z",
     "shell.execute_reply.started": "2024-05-10T20:41:12.464509Z"
    },
    "papermill": {
     "duration": 6.854572,
     "end_time": "2024-05-10T20:43:37.992518",
     "exception": false,
     "start_time": "2024-05-10T20:43:31.137946",
     "status": "completed"
    },
    "tags": []
   },
   "outputs": [],
   "source": [
    "import torch\n",
    "import torch.nn as nn\n",
    "import torchvision.transforms as transforms\n",
    "import torch.nn.functional as F\n",
    "import sklearn\n",
    "import torchvision\n",
    "from sklearn.model_selection import train_test_split\n",
    "from sklearn.preprocessing import LabelEncoder\n",
    "import numpy as np\n",
    "import pandas as pd\n",
    "import os\n",
    "import matplotlib.pyplot as plt\n",
    "import PIL\n",
    "from PIL import Image\n",
    "import albumentations as A\n",
    "from albumentations.pytorch import ToTensorV2\n",
    "import seaborn as sns\n",
    "import glob\n",
    "from pathlib import Path\n",
    "import cv2\n",
    "torch.manual_seed(1)\n",
    "np.random.seed(1)\n",
    "import re\n",
    "import pydicom\n",
    "import math\n",
    "from pydicom.pixel_data_handlers.util import apply_voi_lut\n",
    "from sklearn.metrics import precision_score, recall_score\n",
    "from sklearn.metrics import roc_auc_score"
   ]
  },
  {
   "cell_type": "code",
   "execution_count": 2,
   "id": "c7e2808e",
   "metadata": {
    "execution": {
     "iopub.execute_input": "2024-05-10T20:43:38.106410Z",
     "iopub.status.busy": "2024-05-10T20:43:38.105391Z",
     "iopub.status.idle": "2024-05-10T20:43:38.108239Z",
     "shell.execute_reply": "2024-05-10T20:43:38.107546Z",
     "shell.execute_reply.started": "2024-05-10T20:41:19.125115Z"
    },
    "papermill": {
     "duration": 0.061299,
     "end_time": "2024-05-10T20:43:38.108377",
     "exception": false,
     "start_time": "2024-05-10T20:43:38.047078",
     "status": "completed"
    },
    "tags": []
   },
   "outputs": [],
   "source": [
    "IMAGE_SIZE = 256\n",
    "NUM_IMAGES = 64\n",
    "BATCH_SIZE= 4"
   ]
  },
  {
   "cell_type": "markdown",
   "id": "8659d576",
   "metadata": {
    "papermill": {
     "duration": 0.057753,
     "end_time": "2024-05-10T20:43:38.223363",
     "exception": false,
     "start_time": "2024-05-10T20:43:38.165610",
     "status": "completed"
    },
    "tags": []
   },
   "source": [
    "# **Data Loading and Visualizations**"
   ]
  },
  {
   "cell_type": "code",
   "execution_count": 3,
   "id": "57a86c93",
   "metadata": {
    "execution": {
     "iopub.execute_input": "2024-05-10T20:43:38.345162Z",
     "iopub.status.busy": "2024-05-10T20:43:38.344193Z",
     "iopub.status.idle": "2024-05-10T20:43:38.346992Z",
     "shell.execute_reply": "2024-05-10T20:43:38.346381Z",
     "shell.execute_reply.started": "2024-05-10T20:41:19.130454Z"
    },
    "papermill": {
     "duration": 0.065139,
     "end_time": "2024-05-10T20:43:38.347139",
     "exception": false,
     "start_time": "2024-05-10T20:43:38.282000",
     "status": "completed"
    },
    "tags": []
   },
   "outputs": [],
   "source": [
    "# Loade each individual MRI image\n",
    "def loading_image(path, img_size=IMAGE_SIZE):\n",
    "    dicom = pydicom.read_file(path)\n",
    "    data = dicom.pixel_array\n",
    "    data = apply_voi_lut(dicom.pixel_array, dicom)\n",
    "    data = cv2.resize(data, (img_size, img_size))\n",
    "    return data"
   ]
  },
  {
   "cell_type": "code",
   "execution_count": 4,
   "id": "380670fe",
   "metadata": {
    "execution": {
     "iopub.execute_input": "2024-05-10T20:43:38.469678Z",
     "iopub.status.busy": "2024-05-10T20:43:38.468650Z",
     "iopub.status.idle": "2024-05-10T20:43:38.471484Z",
     "shell.execute_reply": "2024-05-10T20:43:38.470774Z",
     "shell.execute_reply.started": "2024-05-10T20:41:19.141553Z"
    },
    "papermill": {
     "duration": 0.069058,
     "end_time": "2024-05-10T20:43:38.471624",
     "exception": false,
     "start_time": "2024-05-10T20:43:38.402566",
     "status": "completed"
    },
    "tags": []
   },
   "outputs": [],
   "source": [
    "# Loads in the Data as 3d slides for feeding into the model\n",
    "def load_3d_image(idx, mri_type, num_imgs=NUM_IMAGES, split='train'):\n",
    "    files = sorted(glob.glob(f\"../input/rsna-miccai-brain-tumor-radiogenomic-classification/{split}/{idx}/{mri_type}/*.dcm\"), \n",
    "                   key=lambda var:[int(x) if x.isdigit() else x for x in re.findall(r'[^0-9]|[0-9]+', var)])\n",
    "    middle = int(len(files) / 2)\n",
    "    half_num_imgs = int(num_imgs / 2)\n",
    "    start = max(0, middle - half_num_imgs)\n",
    "    end = min(len(files) + 1, middle + half_num_imgs)\n",
    "    arrays = [loading_image(f) for f in files[start:end]]\n",
    "\n",
    "    img3d = np.stack(arrays, axis=2)\n",
    "    \n",
    "    if img3d.shape[-1] < num_imgs:\n",
    "        n_zero = np.zeros((IMAGE_SIZE, IMAGE_SIZE, num_imgs - img3d.shape[-1]))\n",
    "        img3d = np.concatenate((img3d,  n_zero), axis=-1)\n",
    "        \n",
    "    if np.min(img3d) < np.max(img3d):\n",
    "        img3d = img3d - np.min(img3d)\n",
    "        img3d = img3d / np.max(img3d)\n",
    "\n",
    "    return img3d"
   ]
  },
  {
   "cell_type": "code",
   "execution_count": 5,
   "id": "c1f90049",
   "metadata": {
    "execution": {
     "iopub.execute_input": "2024-05-10T20:43:38.586784Z",
     "iopub.status.busy": "2024-05-10T20:43:38.585909Z",
     "iopub.status.idle": "2024-05-10T20:43:38.597045Z",
     "shell.execute_reply": "2024-05-10T20:43:38.596451Z",
     "shell.execute_reply.started": "2024-05-10T20:41:19.159055Z"
    },
    "papermill": {
     "duration": 0.071085,
     "end_time": "2024-05-10T20:43:38.597184",
     "exception": false,
     "start_time": "2024-05-10T20:43:38.526099",
     "status": "completed"
    },
    "tags": []
   },
   "outputs": [],
   "source": [
    "train_labels = pd.read_csv('../input/rsna-miccai-brain-tumor-radiogenomic-classification/train_labels.csv')"
   ]
  },
  {
   "cell_type": "code",
   "execution_count": 6,
   "id": "1264855f",
   "metadata": {
    "execution": {
     "iopub.execute_input": "2024-05-10T20:43:38.747541Z",
     "iopub.status.busy": "2024-05-10T20:43:38.737842Z",
     "iopub.status.idle": "2024-05-10T20:43:38.880023Z",
     "shell.execute_reply": "2024-05-10T20:43:38.880558Z",
     "shell.execute_reply.started": "2024-05-10T20:41:19.181080Z"
    },
    "papermill": {
     "duration": 0.229259,
     "end_time": "2024-05-10T20:43:38.880744",
     "exception": false,
     "start_time": "2024-05-10T20:43:38.651485",
     "status": "completed"
    },
    "tags": []
   },
   "outputs": [
    {
     "data": {
      "image/png": "[encoded data removed]",
      "text/plain": [
       "<Figure size 432x288 with 1 Axes>"
      ]
     },
     "metadata": {
      "needs_background": "light"
     },
     "output_type": "display_data"
    }
   ],
   "source": [
    "plt.hist(train_labels['MGMT_value'], bins=2, edgecolor='black')\n",
    "\n",
    "# Setting the title and labels\n",
    "plt.title(\"MGMT_Value\")\n",
    "plt.xlabel(\"Value\")\n",
    "plt.ylabel(\"Count\")\n",
    "\n",
    "# Remove the gaps between the bars\n",
    "plt.gca().set_xticks([0, 1])  # Setting x-axis ticks to only 0 and 1\n",
    "\n",
    "plt.show()"
   ]
  },
  {
   "cell_type": "code",
   "execution_count": 7,
   "id": "2a5ab173",
   "metadata": {
    "execution": {
     "iopub.execute_input": "2024-05-10T20:43:39.000645Z",
     "iopub.status.busy": "2024-05-10T20:43:38.999816Z",
     "iopub.status.idle": "2024-05-10T20:43:39.013557Z",
     "shell.execute_reply": "2024-05-10T20:43:39.012967Z",
     "shell.execute_reply.started": "2024-05-10T20:41:19.394534Z"
    },
    "papermill": {
     "duration": 0.076958,
     "end_time": "2024-05-10T20:43:39.013705",
     "exception": false,
     "start_time": "2024-05-10T20:43:38.936747",
     "status": "completed"
    },
    "tags": []
   },
   "outputs": [
    {
     "data": {
      "text/html": [
       "<div>\n",
       "<style scoped>\n",
       "    .dataframe tbody tr th:only-of-type {\n",
       "        vertical-align: middle;\n",
       "    }\n",
       "\n",
       "    .dataframe tbody tr th {\n",
       "        vertical-align: top;\n",
       "    }\n",
       "\n",
       "    .dataframe thead th {\n",
       "        text-align: right;\n",
       "    }\n",
       "</style>\n",
       "<table border=\"1\" class=\"dataframe\">\n",
       "  <thead>\n",
       "    <tr style=\"text-align: right;\">\n",
       "      <th></th>\n",
       "      <th>BraTS21ID</th>\n",
       "      <th>MGMT_value</th>\n",
       "    </tr>\n",
       "  </thead>\n",
       "  <tbody>\n",
       "    <tr>\n",
       "      <th>0</th>\n",
       "      <td>0</td>\n",
       "      <td>1</td>\n",
       "    </tr>\n",
       "    <tr>\n",
       "      <th>1</th>\n",
       "      <td>2</td>\n",
       "      <td>1</td>\n",
       "    </tr>\n",
       "    <tr>\n",
       "      <th>2</th>\n",
       "      <td>3</td>\n",
       "      <td>0</td>\n",
       "    </tr>\n",
       "    <tr>\n",
       "      <th>3</th>\n",
       "      <td>5</td>\n",
       "      <td>1</td>\n",
       "    </tr>\n",
       "    <tr>\n",
       "      <th>4</th>\n",
       "      <td>6</td>\n",
       "      <td>1</td>\n",
       "    </tr>\n",
       "    <tr>\n",
       "      <th>...</th>\n",
       "      <td>...</td>\n",
       "      <td>...</td>\n",
       "    </tr>\n",
       "    <tr>\n",
       "      <th>580</th>\n",
       "      <td>1005</td>\n",
       "      <td>1</td>\n",
       "    </tr>\n",
       "    <tr>\n",
       "      <th>581</th>\n",
       "      <td>1007</td>\n",
       "      <td>1</td>\n",
       "    </tr>\n",
       "    <tr>\n",
       "      <th>582</th>\n",
       "      <td>1008</td>\n",
       "      <td>1</td>\n",
       "    </tr>\n",
       "    <tr>\n",
       "      <th>583</th>\n",
       "      <td>1009</td>\n",
       "      <td>0</td>\n",
       "    </tr>\n",
       "    <tr>\n",
       "      <th>584</th>\n",
       "      <td>1010</td>\n",
       "      <td>0</td>\n",
       "    </tr>\n",
       "  </tbody>\n",
       "</table>\n",
       "<p>585 rows × 2 columns</p>\n",
       "</div>"
      ],
      "text/plain": [
       "     BraTS21ID  MGMT_value\n",
       "0            0           1\n",
       "1            2           1\n",
       "2            3           0\n",
       "3            5           1\n",
       "4            6           1\n",
       "..         ...         ...\n",
       "580       1005           1\n",
       "581       1007           1\n",
       "582       1008           1\n",
       "583       1009           0\n",
       "584       1010           0\n",
       "\n",
       "[585 rows x 2 columns]"
      ]
     },
     "execution_count": 7,
     "metadata": {},
     "output_type": "execute_result"
    }
   ],
   "source": [
    "train_labels"
   ]
  },
  {
   "cell_type": "code",
   "execution_count": 8,
   "id": "68fcae7a",
   "metadata": {
    "execution": {
     "iopub.execute_input": "2024-05-10T20:43:39.130451Z",
     "iopub.status.busy": "2024-05-10T20:43:39.129806Z",
     "iopub.status.idle": "2024-05-10T20:43:39.147005Z",
     "shell.execute_reply": "2024-05-10T20:43:39.146391Z",
     "shell.execute_reply.started": "2024-05-10T20:41:19.411301Z"
    },
    "papermill": {
     "duration": 0.077869,
     "end_time": "2024-05-10T20:43:39.147154",
     "exception": false,
     "start_time": "2024-05-10T20:43:39.069285",
     "status": "completed"
    },
    "tags": []
   },
   "outputs": [
    {
     "data": {
      "text/plain": [
       "307"
      ]
     },
     "execution_count": 8,
     "metadata": {},
     "output_type": "execute_result"
    }
   ],
   "source": [
    "(train_labels.MGMT_value == 1).sum()"
   ]
  },
  {
   "cell_type": "code",
   "execution_count": 9,
   "id": "52c709b7",
   "metadata": {
    "execution": {
     "iopub.execute_input": "2024-05-10T20:43:39.290492Z",
     "iopub.status.busy": "2024-05-10T20:43:39.274096Z",
     "iopub.status.idle": "2024-05-10T20:43:39.513632Z",
     "shell.execute_reply": "2024-05-10T20:43:39.512936Z",
     "shell.execute_reply.started": "2024-05-10T20:41:19.428737Z"
    },
    "papermill": {
     "duration": 0.309192,
     "end_time": "2024-05-10T20:43:39.513785",
     "exception": false,
     "start_time": "2024-05-10T20:43:39.204593",
     "status": "completed"
    },
    "tags": []
   },
   "outputs": [
    {
     "data": {
      "image/png": "[encoded data removed]",
      "text/plain": [
       "<Figure size 432x288 with 1 Axes>"
      ]
     },
     "metadata": {
      "needs_background": "light"
     },
     "output_type": "display_data"
    }
   ],
   "source": [
    "data = train_labels['MGMT_value']\n",
    "\n",
    "d = np.diff(np.unique(data)).min()\n",
    "left_of_first_bin = data.min() - float(d)/2\n",
    "right_of_last_bin = data.max() + float(d)/2\n",
    "plt.hist(data, np.arange(left_of_first_bin, right_of_last_bin + d, d))\n",
    "plt.show()"
   ]
  },
  {
   "cell_type": "code",
   "execution_count": 10,
   "id": "798779bc",
   "metadata": {
    "execution": {
     "iopub.execute_input": "2024-05-10T20:43:39.637418Z",
     "iopub.status.busy": "2024-05-10T20:43:39.636650Z",
     "iopub.status.idle": "2024-05-10T20:43:39.704223Z",
     "shell.execute_reply": "2024-05-10T20:43:39.704734Z",
     "shell.execute_reply.started": "2024-05-10T20:41:19.590621Z"
    },
    "papermill": {
     "duration": 0.133755,
     "end_time": "2024-05-10T20:43:39.704939",
     "exception": false,
     "start_time": "2024-05-10T20:43:39.571184",
     "status": "completed"
    },
    "tags": []
   },
   "outputs": [],
   "source": [
    "train_files = sorted(os.listdir('../input/rsna-miccai-brain-tumor-radiogenomic-classification/train'))"
   ]
  },
  {
   "cell_type": "code",
   "execution_count": 11,
   "id": "2e1c0597",
   "metadata": {
    "execution": {
     "iopub.execute_input": "2024-05-10T20:43:39.845205Z",
     "iopub.status.busy": "2024-05-10T20:43:39.844129Z",
     "iopub.status.idle": "2024-05-10T20:43:39.849144Z",
     "shell.execute_reply": "2024-05-10T20:43:39.848267Z",
     "shell.execute_reply.started": "2024-05-10T20:41:19.653302Z"
    },
    "papermill": {
     "duration": 0.086079,
     "end_time": "2024-05-10T20:43:39.849366",
     "exception": false,
     "start_time": "2024-05-10T20:43:39.763287",
     "status": "completed"
    },
    "tags": []
   },
   "outputs": [
    {
     "data": {
      "text/plain": [
       "585"
      ]
     },
     "execution_count": 11,
     "metadata": {},
     "output_type": "execute_result"
    }
   ],
   "source": [
    "len(train_files)"
   ]
  },
  {
   "cell_type": "code",
   "execution_count": 12,
   "id": "e32c52de",
   "metadata": {
    "execution": {
     "iopub.execute_input": "2024-05-10T20:43:39.981800Z",
     "iopub.status.busy": "2024-05-10T20:43:39.980774Z",
     "iopub.status.idle": "2024-05-10T20:43:39.983713Z",
     "shell.execute_reply": "2024-05-10T20:43:39.983209Z",
     "shell.execute_reply.started": "2024-05-10T20:41:19.659274Z"
    },
    "papermill": {
     "duration": 0.070109,
     "end_time": "2024-05-10T20:43:39.983836",
     "exception": false,
     "start_time": "2024-05-10T20:43:39.913727",
     "status": "completed"
    },
    "tags": []
   },
   "outputs": [],
   "source": [
    "train_files = pd.Series(train_files, name='train_files')"
   ]
  },
  {
   "cell_type": "code",
   "execution_count": 13,
   "id": "9845dc10",
   "metadata": {
    "execution": {
     "iopub.execute_input": "2024-05-10T20:43:40.113425Z",
     "iopub.status.busy": "2024-05-10T20:43:40.112414Z",
     "iopub.status.idle": "2024-05-10T20:43:40.115445Z",
     "shell.execute_reply": "2024-05-10T20:43:40.114928Z",
     "shell.execute_reply.started": "2024-05-10T20:41:19.668163Z"
    },
    "papermill": {
     "duration": 0.070991,
     "end_time": "2024-05-10T20:43:40.115570",
     "exception": false,
     "start_time": "2024-05-10T20:43:40.044579",
     "status": "completed"
    },
    "tags": []
   },
   "outputs": [],
   "source": [
    "train_labels = pd.concat([train_labels, train_files], axis=1)"
   ]
  },
  {
   "cell_type": "code",
   "execution_count": 14,
   "id": "43cb0821",
   "metadata": {
    "execution": {
     "iopub.execute_input": "2024-05-10T20:43:40.255310Z",
     "iopub.status.busy": "2024-05-10T20:43:40.254277Z",
     "iopub.status.idle": "2024-05-10T20:43:40.268649Z",
     "shell.execute_reply": "2024-05-10T20:43:40.269234Z",
     "shell.execute_reply.started": "2024-05-10T20:41:19.678425Z"
    },
    "papermill": {
     "duration": 0.095329,
     "end_time": "2024-05-10T20:43:40.269409",
     "exception": false,
     "start_time": "2024-05-10T20:43:40.174080",
     "status": "completed"
    },
    "tags": []
   },
   "outputs": [
    {
     "data": {
      "text/html": [
       "<div>\n",
       "<style scoped>\n",
       "    .dataframe tbody tr th:only-of-type {\n",
       "        vertical-align: middle;\n",
       "    }\n",
       "\n",
       "    .dataframe tbody tr th {\n",
       "        vertical-align: top;\n",
       "    }\n",
       "\n",
       "    .dataframe thead th {\n",
       "        text-align: right;\n",
       "    }\n",
       "</style>\n",
       "<table border=\"1\" class=\"dataframe\">\n",
       "  <thead>\n",
       "    <tr style=\"text-align: right;\">\n",
       "      <th></th>\n",
       "      <th>BraTS21ID</th>\n",
       "      <th>MGMT_value</th>\n",
       "      <th>train_files</th>\n",
       "    </tr>\n",
       "  </thead>\n",
       "  <tbody>\n",
       "    <tr>\n",
       "      <th>0</th>\n",
       "      <td>0</td>\n",
       "      <td>1</td>\n",
       "      <td>00000</td>\n",
       "    </tr>\n",
       "    <tr>\n",
       "      <th>1</th>\n",
       "      <td>2</td>\n",
       "      <td>1</td>\n",
       "      <td>00002</td>\n",
       "    </tr>\n",
       "    <tr>\n",
       "      <th>2</th>\n",
       "      <td>3</td>\n",
       "      <td>0</td>\n",
       "      <td>00003</td>\n",
       "    </tr>\n",
       "    <tr>\n",
       "      <th>3</th>\n",
       "      <td>5</td>\n",
       "      <td>1</td>\n",
       "      <td>00005</td>\n",
       "    </tr>\n",
       "    <tr>\n",
       "      <th>4</th>\n",
       "      <td>6</td>\n",
       "      <td>1</td>\n",
       "      <td>00006</td>\n",
       "    </tr>\n",
       "    <tr>\n",
       "      <th>...</th>\n",
       "      <td>...</td>\n",
       "      <td>...</td>\n",
       "      <td>...</td>\n",
       "    </tr>\n",
       "    <tr>\n",
       "      <th>580</th>\n",
       "      <td>1005</td>\n",
       "      <td>1</td>\n",
       "      <td>01005</td>\n",
       "    </tr>\n",
       "    <tr>\n",
       "      <th>581</th>\n",
       "      <td>1007</td>\n",
       "      <td>1</td>\n",
       "      <td>01007</td>\n",
       "    </tr>\n",
       "    <tr>\n",
       "      <th>582</th>\n",
       "      <td>1008</td>\n",
       "      <td>1</td>\n",
       "      <td>01008</td>\n",
       "    </tr>\n",
       "    <tr>\n",
       "      <th>583</th>\n",
       "      <td>1009</td>\n",
       "      <td>0</td>\n",
       "      <td>01009</td>\n",
       "    </tr>\n",
       "    <tr>\n",
       "      <th>584</th>\n",
       "      <td>1010</td>\n",
       "      <td>0</td>\n",
       "      <td>01010</td>\n",
       "    </tr>\n",
       "  </tbody>\n",
       "</table>\n",
       "<p>585 rows × 3 columns</p>\n",
       "</div>"
      ],
      "text/plain": [
       "     BraTS21ID  MGMT_value train_files\n",
       "0            0           1       00000\n",
       "1            2           1       00002\n",
       "2            3           0       00003\n",
       "3            5           1       00005\n",
       "4            6           1       00006\n",
       "..         ...         ...         ...\n",
       "580       1005           1       01005\n",
       "581       1007           1       01007\n",
       "582       1008           1       01008\n",
       "583       1009           0       01009\n",
       "584       1010           0       01010\n",
       "\n",
       "[585 rows x 3 columns]"
      ]
     },
     "execution_count": 14,
     "metadata": {},
     "output_type": "execute_result"
    }
   ],
   "source": [
    "train_labels"
   ]
  },
  {
   "cell_type": "code",
   "execution_count": 15,
   "id": "afabced6",
   "metadata": {
    "execution": {
     "iopub.execute_input": "2024-05-10T20:43:40.411626Z",
     "iopub.status.busy": "2024-05-10T20:43:40.407040Z",
     "iopub.status.idle": "2024-05-10T20:43:40.414059Z",
     "shell.execute_reply": "2024-05-10T20:43:40.414724Z",
     "shell.execute_reply.started": "2024-05-10T20:41:19.695446Z"
    },
    "papermill": {
     "duration": 0.067539,
     "end_time": "2024-05-10T20:43:40.414953",
     "exception": false,
     "start_time": "2024-05-10T20:43:40.347414",
     "status": "completed"
    },
    "tags": []
   },
   "outputs": [],
   "source": [
    "train_labels = train_labels[train_labels['BraTS21ID'] != 109]"
   ]
  },
  {
   "cell_type": "code",
   "execution_count": 16,
   "id": "f06f2989",
   "metadata": {
    "execution": {
     "iopub.execute_input": "2024-05-10T20:43:40.542512Z",
     "iopub.status.busy": "2024-05-10T20:43:40.541658Z",
     "iopub.status.idle": "2024-05-10T20:43:40.545466Z",
     "shell.execute_reply": "2024-05-10T20:43:40.544835Z",
     "shell.execute_reply.started": "2024-05-10T20:41:19.705850Z"
    },
    "papermill": {
     "duration": 0.068948,
     "end_time": "2024-05-10T20:43:40.545615",
     "exception": false,
     "start_time": "2024-05-10T20:43:40.476667",
     "status": "completed"
    },
    "tags": []
   },
   "outputs": [],
   "source": [
    "train_labels = train_labels[train_labels['BraTS21ID'] != 709]"
   ]
  },
  {
   "cell_type": "markdown",
   "id": "78f344b0",
   "metadata": {
    "papermill": {
     "duration": 0.060381,
     "end_time": "2024-05-10T20:43:40.666583",
     "exception": false,
     "start_time": "2024-05-10T20:43:40.606202",
     "status": "completed"
    },
    "tags": []
   },
   "source": [
    "109 and 709 don't have flair images so for this dataset. "
   ]
  },
  {
   "cell_type": "code",
   "execution_count": 17,
   "id": "3f7d621c",
   "metadata": {
    "execution": {
     "iopub.execute_input": "2024-05-10T20:43:40.801957Z",
     "iopub.status.busy": "2024-05-10T20:43:40.800997Z",
     "iopub.status.idle": "2024-05-10T20:43:40.805145Z",
     "shell.execute_reply": "2024-05-10T20:43:40.804524Z",
     "shell.execute_reply.started": "2024-05-10T20:41:19.715256Z"
    },
    "papermill": {
     "duration": 0.076233,
     "end_time": "2024-05-10T20:43:40.805289",
     "exception": false,
     "start_time": "2024-05-10T20:43:40.729056",
     "status": "completed"
    },
    "tags": []
   },
   "outputs": [
    {
     "data": {
      "text/plain": [
       "1    306\n",
       "0    277\n",
       "Name: MGMT_value, dtype: int64"
      ]
     },
     "execution_count": 17,
     "metadata": {},
     "output_type": "execute_result"
    }
   ],
   "source": [
    "train_labels['MGMT_value'].value_counts()"
   ]
  },
  {
   "cell_type": "markdown",
   "id": "8173d06d",
   "metadata": {
    "papermill": {
     "duration": 0.058149,
     "end_time": "2024-05-10T20:43:40.923014",
     "exception": false,
     "start_time": "2024-05-10T20:43:40.864865",
     "status": "completed"
    },
    "tags": []
   },
   "source": [
    "Fairly balanced train set."
   ]
  },
  {
   "cell_type": "code",
   "execution_count": 18,
   "id": "0eb7443a",
   "metadata": {
    "execution": {
     "iopub.execute_input": "2024-05-10T20:43:41.047421Z",
     "iopub.status.busy": "2024-05-10T20:43:41.046651Z",
     "iopub.status.idle": "2024-05-10T20:43:41.057875Z",
     "shell.execute_reply": "2024-05-10T20:43:41.058373Z",
     "shell.execute_reply.started": "2024-05-10T20:41:19.731334Z"
    },
    "papermill": {
     "duration": 0.075908,
     "end_time": "2024-05-10T20:43:41.058534",
     "exception": false,
     "start_time": "2024-05-10T20:43:40.982626",
     "status": "completed"
    },
    "tags": []
   },
   "outputs": [],
   "source": [
    "test_data = pd.read_csv('../input/rsna-miccai-brain-tumor-radiogenomic-classification/sample_submission.csv')\n",
    "test_ids = []\n",
    "for f in test_data.itertuples():\n",
    "    test_ids.append(f[1])"
   ]
  },
  {
   "cell_type": "markdown",
   "id": "c8670e6d",
   "metadata": {
    "papermill": {
     "duration": 0.062065,
     "end_time": "2024-05-10T20:43:41.179300",
     "exception": false,
     "start_time": "2024-05-10T20:43:41.117235",
     "status": "completed"
    },
    "tags": []
   },
   "source": [
    "# **Dataset and DataLoader**"
   ]
  },
  {
   "cell_type": "code",
   "execution_count": 19,
   "id": "efda1fbb",
   "metadata": {
    "execution": {
     "iopub.execute_input": "2024-05-10T20:43:41.312071Z",
     "iopub.status.busy": "2024-05-10T20:43:41.311306Z",
     "iopub.status.idle": "2024-05-10T20:43:41.314711Z",
     "shell.execute_reply": "2024-05-10T20:43:41.313942Z",
     "shell.execute_reply.started": "2024-05-10T20:41:19.747501Z"
    },
    "papermill": {
     "duration": 0.076059,
     "end_time": "2024-05-10T20:43:41.314875",
     "exception": false,
     "start_time": "2024-05-10T20:43:41.238816",
     "status": "completed"
    },
    "tags": []
   },
   "outputs": [],
   "source": [
    "# Formatting and arranging data for model\n",
    "class TumorDataset(torch.utils.data.Dataset):\n",
    "    def __init__(self, df=train_labels, transform=transforms.Compose([transforms.ToTensor()]), mri_type=\"FLAIR\", train=True):\n",
    "        self.df = df\n",
    "        self.transform = transform\n",
    "        self.type = mri_type\n",
    "        self.train = train\n",
    "    \n",
    "    def __len__(self):\n",
    "        return len(self.df)\n",
    "    \n",
    "    def __getitem__(self, idx):\n",
    "            if self.train == True:\n",
    "                patient_id = self.df.iloc[idx, 2]\n",
    "                \n",
    "                image = load_3d_image(str(patient_id), self.type)\n",
    "                image = self.transform(image)\n",
    "                image = image[None, :, :, :]\n",
    "                label = self.df.iloc[idx, 1]\n",
    "                label = torch.tensor(label)\n",
    "                \n",
    "                return image, label\n",
    "            \n",
    "            else:\n",
    "                patient_id = self.df[idx]\n",
    "                patient_id = str(patient_id)\n",
    "                for i in range(5 - len(patient_id)):\n",
    "                    patient_id = '0' + patient_id\n",
    "                \n",
    "                \n",
    "                image = load_3d_image(patient_id, self.type, split='test')\n",
    "                image = self.transform(image)\n",
    "                image = image[None, :, :, :]\n",
    "                \n",
    "                return image, idx"
   ]
  },
  {
   "cell_type": "code",
   "execution_count": 20,
   "id": "2c2e3f55",
   "metadata": {
    "execution": {
     "iopub.execute_input": "2024-05-10T20:43:41.447171Z",
     "iopub.status.busy": "2024-05-10T20:43:41.446411Z",
     "iopub.status.idle": "2024-05-10T20:43:41.449662Z",
     "shell.execute_reply": "2024-05-10T20:43:41.449060Z",
     "shell.execute_reply.started": "2024-05-10T20:41:19.758704Z"
    },
    "papermill": {
     "duration": 0.068911,
     "end_time": "2024-05-10T20:43:41.449833",
     "exception": false,
     "start_time": "2024-05-10T20:43:41.380922",
     "status": "completed"
    },
    "tags": []
   },
   "outputs": [],
   "source": [
    "train_dataset = TumorDataset()\n",
    "test_dataset = TumorDataset(df=test_ids, train=False)"
   ]
  },
  {
   "cell_type": "code",
   "execution_count": 21,
   "id": "66a26c47",
   "metadata": {
    "execution": {
     "iopub.execute_input": "2024-05-10T20:43:41.576520Z",
     "iopub.status.busy": "2024-05-10T20:43:41.575883Z",
     "iopub.status.idle": "2024-05-10T20:43:41.578443Z",
     "shell.execute_reply": "2024-05-10T20:43:41.578937Z",
     "shell.execute_reply.started": "2024-05-10T20:41:19.768697Z"
    },
    "papermill": {
     "duration": 0.067763,
     "end_time": "2024-05-10T20:43:41.579109",
     "exception": false,
     "start_time": "2024-05-10T20:43:41.511346",
     "status": "completed"
    },
    "tags": []
   },
   "outputs": [],
   "source": [
    "train_loader = torch.utils.data.DataLoader(train_dataset, batch_size=BATCH_SIZE, num_workers=4)\n",
    "test_loader = torch.utils.data.DataLoader(test_dataset, batch_size=BATCH_SIZE, num_workers=4)"
   ]
  },
  {
   "cell_type": "code",
   "execution_count": 22,
   "id": "a5d289c0",
   "metadata": {
    "execution": {
     "iopub.execute_input": "2024-05-10T20:43:41.757673Z",
     "iopub.status.busy": "2024-05-10T20:43:41.756846Z",
     "iopub.status.idle": "2024-05-10T20:43:41.761265Z",
     "shell.execute_reply": "2024-05-10T20:43:41.760660Z",
     "shell.execute_reply.started": "2024-05-10T20:41:19.776059Z"
    },
    "papermill": {
     "duration": 0.122273,
     "end_time": "2024-05-10T20:43:41.761414",
     "exception": false,
     "start_time": "2024-05-10T20:43:41.639141",
     "status": "completed"
    },
    "tags": []
   },
   "outputs": [
    {
     "data": {
      "text/plain": [
       "device(type='cuda', index=0)"
      ]
     },
     "execution_count": 22,
     "metadata": {},
     "output_type": "execute_result"
    }
   ],
   "source": [
    "device = torch.device(\"cuda:0\" if torch.cuda.is_available() else \"cpu\")\n",
    "device"
   ]
  },
  {
   "cell_type": "markdown",
   "id": "8a137392",
   "metadata": {
    "papermill": {
     "duration": 0.05838,
     "end_time": "2024-05-10T20:43:41.880790",
     "exception": false,
     "start_time": "2024-05-10T20:43:41.822410",
     "status": "completed"
    },
    "tags": []
   },
   "source": [
    "# **Simple Model Architecture**"
   ]
  },
  {
   "cell_type": "markdown",
   "id": "99b96fe5",
   "metadata": {
    "papermill": {
     "duration": 0.058815,
     "end_time": "2024-05-10T20:43:41.997453",
     "exception": false,
     "start_time": "2024-05-10T20:43:41.938638",
     "status": "completed"
    },
    "tags": []
   },
   "source": [
    "# 3D CNN"
   ]
  },
  {
   "cell_type": "code",
   "execution_count": 23,
   "id": "7bf395af",
   "metadata": {
    "execution": {
     "iopub.execute_input": "2024-05-10T20:43:42.124533Z",
     "iopub.status.busy": "2024-05-10T20:43:42.121631Z",
     "iopub.status.idle": "2024-05-10T20:43:42.127512Z",
     "shell.execute_reply": "2024-05-10T20:43:42.126881Z",
     "shell.execute_reply.started": "2024-05-06T23:32:55.470547Z"
    },
    "papermill": {
     "duration": 0.071976,
     "end_time": "2024-05-10T20:43:42.127681",
     "exception": false,
     "start_time": "2024-05-10T20:43:42.055705",
     "status": "completed"
    },
    "tags": []
   },
   "outputs": [],
   "source": [
    "class ThreeDNetwork(nn.Module):\n",
    "    \n",
    "    def conv_layer(self, in_channels, out_channels, kernel_size, stride=2):\n",
    "        conv_layer = nn.Sequential(\n",
    "            nn.Conv3d(in_channels, out_channels, kernel_size, stride=stride),\n",
    "            nn.LeakyReLU(),\n",
    "            nn.MaxPool3d((2, 2, 2)),\n",
    "            nn.BatchNorm3d(out_channels))\n",
    "        return conv_layer\n",
    "    \n",
    "    def __init__(self, batch_size=BATCH_SIZE):\n",
    "        super(ThreeDNetwork, self).__init__()\n",
    "        self.batch_size = batch_size\n",
    "        self.block1 = nn.Sequential(\n",
    "            self.conv_layer(1, 64, 3, 2),\n",
    "            self.conv_layer(64, 128, 3, 2))\n",
    "        \n",
    "        self.fc = nn.Sequential(\n",
    "            nn.Linear(86400, 1024),\n",
    "            nn.LeakyReLU(),\n",
    "            nn.BatchNorm1d(1024),\n",
    "            nn.Dropout(0.2),\n",
    "            nn.Linear(1024, 1))\n",
    "        \n",
    "    def forward(self, x):\n",
    "        x = self.block1(x)\n",
    "        x = x.view(-1, 86400)\n",
    "        x = self.fc(x)\n",
    "        return x"
   ]
  },
  {
   "cell_type": "code",
   "execution_count": 24,
   "id": "f38e641f",
   "metadata": {
    "execution": {
     "iopub.execute_input": "2024-05-10T20:43:42.248008Z",
     "iopub.status.busy": "2024-05-10T20:43:42.247310Z",
     "iopub.status.idle": "2024-05-10T20:43:43.019288Z",
     "shell.execute_reply": "2024-05-10T20:43:43.018637Z",
     "shell.execute_reply.started": "2024-05-06T00:41:58.613776Z"
    },
    "papermill": {
     "duration": 0.83376,
     "end_time": "2024-05-10T20:43:43.019452",
     "exception": false,
     "start_time": "2024-05-10T20:43:42.185692",
     "status": "completed"
    },
    "tags": []
   },
   "outputs": [],
   "source": [
    "model = ThreeDNetwork()"
   ]
  },
  {
   "cell_type": "code",
   "execution_count": 25,
   "id": "30307f3a",
   "metadata": {
    "execution": {
     "iopub.execute_input": "2024-05-10T20:43:43.142716Z",
     "iopub.status.busy": "2024-05-10T20:43:43.142033Z",
     "iopub.status.idle": "2024-05-10T20:43:43.152473Z",
     "shell.execute_reply": "2024-05-10T20:43:43.151882Z",
     "shell.execute_reply.started": "2024-05-06T00:41:59.307120Z"
    },
    "papermill": {
     "duration": 0.075349,
     "end_time": "2024-05-10T20:43:43.152606",
     "exception": false,
     "start_time": "2024-05-10T20:43:43.077257",
     "status": "completed"
    },
    "tags": []
   },
   "outputs": [
    {
     "name": "stdout",
     "output_type": "stream",
     "text": [
      "ThreeDNetwork(\n",
      "  (block1): Sequential(\n",
      "    (0): Sequential(\n",
      "      (0): Conv3d(1, 64, kernel_size=(3, 3, 3), stride=(2, 2, 2))\n",
      "      (1): LeakyReLU(negative_slope=0.01)\n",
      "      (2): MaxPool3d(kernel_size=(2, 2, 2), stride=(2, 2, 2), padding=0, dilation=1, ceil_mode=False)\n",
      "      (3): BatchNorm3d(64, eps=1e-05, momentum=0.1, affine=True, track_running_stats=True)\n",
      "    )\n",
      "    (1): Sequential(\n",
      "      (0): Conv3d(64, 128, kernel_size=(3, 3, 3), stride=(2, 2, 2))\n",
      "      (1): LeakyReLU(negative_slope=0.01)\n",
      "      (2): MaxPool3d(kernel_size=(2, 2, 2), stride=(2, 2, 2), padding=0, dilation=1, ceil_mode=False)\n",
      "      (3): BatchNorm3d(128, eps=1e-05, momentum=0.1, affine=True, track_running_stats=True)\n",
      "    )\n",
      "  )\n",
      "  (fc): Sequential(\n",
      "    (0): Linear(in_features=86400, out_features=1024, bias=True)\n",
      "    (1): LeakyReLU(negative_slope=0.01)\n",
      "    (2): BatchNorm1d(1024, eps=1e-05, momentum=0.1, affine=True, track_running_stats=True)\n",
      "    (3): Dropout(p=0.2, inplace=False)\n",
      "    (4): Linear(in_features=1024, out_features=1, bias=True)\n",
      "  )\n",
      ")\n"
     ]
    }
   ],
   "source": [
    "print(model)"
   ]
  },
  {
   "cell_type": "markdown",
   "id": "494b9d54",
   "metadata": {
    "papermill": {
     "duration": 0.057851,
     "end_time": "2024-05-10T20:43:43.270475",
     "exception": false,
     "start_time": "2024-05-10T20:43:43.212624",
     "status": "completed"
    },
    "tags": []
   },
   "source": [
    "### **Training**"
   ]
  },
  {
   "cell_type": "code",
   "execution_count": 26,
   "id": "c14e9256",
   "metadata": {
    "execution": {
     "iopub.execute_input": "2024-05-10T20:43:43.400843Z",
     "iopub.status.busy": "2024-05-10T20:43:43.400190Z",
     "iopub.status.idle": "2024-05-10T20:43:49.346424Z",
     "shell.execute_reply": "2024-05-10T20:43:49.345809Z",
     "shell.execute_reply.started": "2024-05-06T00:41:59.313642Z"
    },
    "papermill": {
     "duration": 6.018076,
     "end_time": "2024-05-10T20:43:49.346583",
     "exception": false,
     "start_time": "2024-05-10T20:43:43.328507",
     "status": "completed"
    },
    "tags": []
   },
   "outputs": [],
   "source": [
    "optimizer = torch.optim.Adam(model.parameters(), lr=0.001)\n",
    "\n",
    "train_criterion = nn.BCELoss()\n",
    "lr_scheduler = torch.optim.lr_scheduler.ReduceLROnPlateau(optimizer, factor=0.1, patience=4, cooldown=2, verbose=True)\n",
    "\n",
    "model = model.to(device)\n",
    "train_criterion = train_criterion.to(device)"
   ]
  },
  {
   "cell_type": "code",
   "execution_count": 27,
   "id": "53ac9791",
   "metadata": {
    "execution": {
     "iopub.execute_input": "2024-05-10T20:43:49.480487Z",
     "iopub.status.busy": "2024-05-10T20:43:49.479337Z",
     "iopub.status.idle": "2024-05-10T21:48:18.051474Z",
     "shell.execute_reply": "2024-05-10T21:48:18.052055Z",
     "shell.execute_reply.started": "2024-05-06T00:42:03.621028Z"
    },
    "papermill": {
     "duration": 3868.644968,
     "end_time": "2024-05-10T21:48:18.052247",
     "exception": false,
     "start_time": "2024-05-10T20:43:49.407279",
     "status": "completed"
    },
    "tags": []
   },
   "outputs": [
    {
     "name": "stdout",
     "output_type": "stream",
     "text": [
      "Epoch: 1\n",
      "Epoch 1, Training Loss: 0.9221, Training Accuracy: 49.91%\n",
      "Model performance improved. Saving the new model.\n",
      "Epoch: 2\n",
      "Epoch 2, Training Loss: 0.6920, Training Accuracy: 60.03%\n",
      "Model performance improved. Saving the new model.\n",
      "Epoch: 3\n",
      "Epoch 3, Training Loss: 0.6079, Training Accuracy: 66.72%\n",
      "Model performance improved. Saving the new model.\n",
      "Epoch: 4\n",
      "Epoch 4, Training Loss: 0.5476, Training Accuracy: 71.87%\n",
      "Model performance improved. Saving the new model.\n",
      "Epoch: 5\n",
      "Epoch 5, Training Loss: 0.4983, Training Accuracy: 75.13%\n",
      "Model performance improved. Saving the new model.\n",
      "Epoch: 6\n",
      "Epoch 6, Training Loss: 0.4596, Training Accuracy: 75.64%\n",
      "Model performance improved. Saving the new model.\n",
      "Epoch: 7\n",
      "Epoch 7, Training Loss: 0.4387, Training Accuracy: 78.56%\n",
      "Model performance improved. Saving the new model.\n",
      "Epoch: 8\n",
      "Epoch 8, Training Loss: 0.3985, Training Accuracy: 82.16%\n",
      "Model performance improved. Saving the new model.\n",
      "Epoch: 9\n",
      "Epoch 9, Training Loss: 0.3833, Training Accuracy: 82.16%\n",
      "Model performance improved. Saving the new model.\n",
      "Epoch: 10\n",
      "Epoch 10, Training Loss: 0.3627, Training Accuracy: 84.05%\n",
      "Model performance improved. Saving the new model.\n",
      "Epoch: 11\n",
      "Epoch 11, Training Loss: 0.3083, Training Accuracy: 87.31%\n",
      "Model performance improved. Saving the new model.\n",
      "Epoch: 12\n",
      "Epoch 12, Training Loss: 0.2745, Training Accuracy: 87.14%\n",
      "Model performance improved. Saving the new model.\n",
      "Epoch: 13\n",
      "Epoch 13, Training Loss: 0.2797, Training Accuracy: 89.02%\n",
      "Epoch: 14\n",
      "Epoch 14, Training Loss: 0.2329, Training Accuracy: 89.71%\n",
      "Model performance improved. Saving the new model.\n",
      "Epoch: 15\n",
      "Epoch 15, Training Loss: 0.2511, Training Accuracy: 88.85%\n",
      "Epoch: 16\n",
      "Epoch 16, Training Loss: 0.2790, Training Accuracy: 89.88%\n",
      "Epoch: 17\n",
      "Epoch 17, Training Loss: 0.2488, Training Accuracy: 89.19%\n",
      "Epoch: 18\n",
      "Epoch 18, Training Loss: 0.2155, Training Accuracy: 91.25%\n",
      "Model performance improved. Saving the new model.\n",
      "Epoch: 19\n",
      "Epoch 19, Training Loss: 0.2480, Training Accuracy: 89.71%\n",
      "Epoch: 20\n",
      "Epoch 20, Training Loss: 0.2245, Training Accuracy: 90.91%\n",
      "Epoch: 21\n",
      "Epoch 21, Training Loss: 0.1984, Training Accuracy: 90.74%\n",
      "Model performance improved. Saving the new model.\n",
      "Epoch: 22\n",
      "Epoch 22, Training Loss: 0.2119, Training Accuracy: 90.39%\n",
      "Epoch: 23\n",
      "Epoch 23, Training Loss: 0.1975, Training Accuracy: 91.60%\n",
      "Model performance improved. Saving the new model.\n",
      "Epoch: 24\n",
      "Epoch 24, Training Loss: 0.1786, Training Accuracy: 92.80%\n",
      "Model performance improved. Saving the new model.\n",
      "Epoch: 25\n",
      "Epoch 25, Training Loss: 0.1922, Training Accuracy: 91.94%\n"
     ]
    }
   ],
   "source": [
    "num_epochs = 25\n",
    "\n",
    "accumulated_losses = []\n",
    "accuracy_history = []  # To store accuracy for each epoch\n",
    "recorded_best_loss = float('inf')\n",
    "\n",
    "for current_epoch in range(num_epochs): \n",
    "    print(f'Epoch: {current_epoch + 1}')\n",
    "    batch_losses = []\n",
    "    epoch_loss_avg = 0\n",
    "    correct_predictions = 0\n",
    "    total_predictions = 0\n",
    "    \n",
    "    for imgs, labels in train_loader:\n",
    "        optimizer.zero_grad()\n",
    "        \n",
    "        labels_transformed = labels.view(-1, 1).to(torch.float).to(device)\n",
    "        imgs = imgs.float().to(device)\n",
    "        \n",
    "        predictions = model(imgs)\n",
    "        predictions = torch.sigmoid(predictions)\n",
    "        loss = train_criterion(predictions, labels_transformed)\n",
    "        \n",
    "        loss.backward()\n",
    "        optimizer.step()\n",
    "        \n",
    "        batch_losses.append(loss.item())\n",
    "\n",
    "        # For accuracy calculation, assuming binary classification and rounding predictions\n",
    "        predicted_classes = predictions.round().to(device)\n",
    "        correct_predictions += (predicted_classes == labels_transformed).sum().item()\n",
    "        total_predictions += labels_transformed.size(0)\n",
    "            \n",
    "    epoch_loss_avg = np.mean(batch_losses)\n",
    "    epoch_accuracy = (correct_predictions / total_predictions) * 100\n",
    "    accuracy_history.append(epoch_accuracy)  # Append accuracy of this epoch to the history\n",
    "    \n",
    "    print(f'Epoch {current_epoch + 1}, Training Loss: {epoch_loss_avg:.4f}, Training Accuracy: {epoch_accuracy:.2f}%')\n",
    "    \n",
    "    if epoch_loss_avg < recorded_best_loss:\n",
    "        torch.save(model.state_dict(), 'updated_model.pth')\n",
    "        print('Model performance improved. Saving the new model.')\n",
    "        recorded_best_loss = epoch_loss_avg\n",
    "        \n",
    "    lr_scheduler.step(epoch_loss_avg)\n",
    "    accumulated_losses.append(epoch_loss_avg)\n",
    "\n"
   ]
  },
  {
   "cell_type": "markdown",
   "id": "e934470b",
   "metadata": {
    "papermill": {
     "duration": 0.073624,
     "end_time": "2024-05-10T21:48:18.198280",
     "exception": false,
     "start_time": "2024-05-10T21:48:18.124656",
     "status": "completed"
    },
    "tags": []
   },
   "source": [
    "### Testing"
   ]
  },
  {
   "cell_type": "code",
   "execution_count": 28,
   "id": "5516a005",
   "metadata": {
    "execution": {
     "iopub.execute_input": "2024-05-10T21:48:18.350544Z",
     "iopub.status.busy": "2024-05-10T21:48:18.349497Z",
     "iopub.status.idle": "2024-05-10T21:48:18.352172Z",
     "shell.execute_reply": "2024-05-10T21:48:18.351585Z",
     "shell.execute_reply.started": "2024-05-06T22:19:59.457751Z"
    },
    "papermill": {
     "duration": 0.080994,
     "end_time": "2024-05-10T21:48:18.352314",
     "exception": false,
     "start_time": "2024-05-10T21:48:18.271320",
     "status": "completed"
    },
    "tags": []
   },
   "outputs": [],
   "source": [
    "def rounding(num):\n",
    "    return math.floor(num + 0.5)"
   ]
  },
  {
   "cell_type": "code",
   "execution_count": 29,
   "id": "41b2619a",
   "metadata": {
    "execution": {
     "iopub.execute_input": "2024-05-10T21:48:18.501619Z",
     "iopub.status.busy": "2024-05-10T21:48:18.500834Z",
     "iopub.status.idle": "2024-05-10T21:48:18.810674Z",
     "shell.execute_reply": "2024-05-10T21:48:18.810100Z",
     "shell.execute_reply.started": "2024-05-06T00:44:12.381583Z"
    },
    "papermill": {
     "duration": 0.385385,
     "end_time": "2024-05-10T21:48:18.810818",
     "exception": false,
     "start_time": "2024-05-10T21:48:18.425433",
     "status": "completed"
    },
    "tags": []
   },
   "outputs": [
    {
     "data": {
      "text/plain": [
       "<All keys matched successfully>"
      ]
     },
     "execution_count": 29,
     "metadata": {},
     "output_type": "execute_result"
    }
   ],
   "source": [
    "model.load_state_dict(torch.load('updated_model.pth'))"
   ]
  },
  {
   "cell_type": "code",
   "execution_count": 30,
   "id": "0ed44b6e",
   "metadata": {
    "execution": {
     "iopub.execute_input": "2024-05-10T21:48:18.978119Z",
     "iopub.status.busy": "2024-05-10T21:48:18.977045Z",
     "iopub.status.idle": "2024-05-10T21:50:43.967088Z",
     "shell.execute_reply": "2024-05-10T21:50:43.967600Z",
     "shell.execute_reply.started": "2024-05-06T00:44:12.684345Z"
    },
    "papermill": {
     "duration": 145.078402,
     "end_time": "2024-05-10T21:50:43.967791",
     "exception": false,
     "start_time": "2024-05-10T21:48:18.889389",
     "status": "completed"
    },
    "tags": []
   },
   "outputs": [
    {
     "name": "stdout",
     "output_type": "stream",
     "text": [
      "Train Accuracy: 72.56 %\n",
      "Precision: 0.79\n",
      "Recall: 0.64\n"
     ]
    }
   ],
   "source": [
    "acc_correct = 0\n",
    "samples_total = 0\n",
    "\n",
    "true_labels = []\n",
    "predictions = []\n",
    "\n",
    "# Ensure model is in evaluation mode and gradient computation is off\n",
    "model.eval()\n",
    "with torch.no_grad():\n",
    "    for img_batch, labels in train_loader:\n",
    "        updated_labels = labels.unsqueeze(1)  # Add an extra dimension\n",
    "        updated_labels = updated_labels.to(torch.int32).to(device)\n",
    "        img_batch = img_batch.float().to(device)\n",
    "        \n",
    "        pred_logits = model(img_batch)\n",
    "        pred_probs = torch.sigmoid(pred_logits)\n",
    "        \n",
    "        # Apply a custom rounding function to predictions\n",
    "        rounded_preds = torch.tensor([[rounding(prob)] for prob in pred_probs], dtype=torch.int32).to(device)\n",
    "        \n",
    "        samples_total += len(img_batch)\n",
    "        \n",
    "        # Calculate number of correct predictions\n",
    "        correct_preds = (rounded_preds == updated_labels).sum().item()\n",
    "        acc_correct += correct_preds\n",
    "        \n",
    "        # Store predictions and labels for precision and recall calculation\n",
    "        true_labels.extend(updated_labels.cpu().numpy())\n",
    "        predictions.extend(rounded_preds.cpu().numpy())\n",
    "\n",
    "# Calculating overall accuracy\n",
    "accuracy_pct = (acc_correct / samples_total) * 100\n",
    "\n",
    "# Calculate precision and recall\n",
    "precision = precision_score(true_labels, predictions)\n",
    "recall = recall_score(true_labels, predictions)\n",
    "\n",
    "print(f'Train Accuracy: {accuracy_pct:.2f} %')\n",
    "print(f'Precision: {precision:.2f}')\n",
    "print(f'Recall: {recall:.2f}')\n"
   ]
  },
  {
   "cell_type": "code",
   "execution_count": 31,
   "id": "1f5509d1",
   "metadata": {
    "execution": {
     "iopub.execute_input": "2024-05-10T21:50:44.127279Z",
     "iopub.status.busy": "2024-05-10T21:50:44.126540Z",
     "iopub.status.idle": "2024-05-10T21:53:13.327544Z",
     "shell.execute_reply": "2024-05-10T21:53:13.328076Z",
     "shell.execute_reply.started": "2024-05-05T23:31:24.968517Z"
    },
    "papermill": {
     "duration": 149.286656,
     "end_time": "2024-05-10T21:53:13.328255",
     "exception": false,
     "start_time": "2024-05-10T21:50:44.041599",
     "status": "completed"
    },
    "tags": []
   },
   "outputs": [
    {
     "name": "stdout",
     "output_type": "stream",
     "text": [
      "Train ROC AUC: 0.81\n"
     ]
    }
   ],
   "source": [
    "# Placeholder for true labels and prediction scores\n",
    "true_labels = []\n",
    "pred_scores = []\n",
    "\n",
    "model.eval()\n",
    "with torch.no_grad():\n",
    "    for img_batch, labels in train_loader:\n",
    "        # Ensure labels are in the correct format\n",
    "        labels = labels.to(dtype=torch.float32, device=device)\n",
    "        \n",
    "        img_batch = img_batch.to(dtype=torch.float32, device=device)\n",
    "        \n",
    "        # Get the prediction scores for the positive class\n",
    "        pred_logits = model(img_batch)\n",
    "        pred_probs = torch.sigmoid(pred_logits).squeeze().cpu().numpy()  # Assuming binary classification\n",
    "        \n",
    "        true_labels.extend(labels.squeeze().cpu().numpy())\n",
    "        pred_scores.extend(pred_probs)\n",
    "\n",
    "# Calculate the ROC AUC score\n",
    "roc_auc = roc_auc_score(true_labels, pred_scores)\n",
    "print(f'Train ROC AUC: {roc_auc:.2f}')\n"
   ]
  },
  {
   "cell_type": "code",
   "execution_count": 32,
   "id": "929ea4df",
   "metadata": {
    "execution": {
     "iopub.execute_input": "2024-05-10T21:53:13.533337Z",
     "iopub.status.busy": "2024-05-10T21:53:13.484761Z",
     "iopub.status.idle": "2024-05-10T21:53:14.060965Z",
     "shell.execute_reply": "2024-05-10T21:53:14.060232Z",
     "shell.execute_reply.started": "2024-05-05T23:33:12.674983Z"
    },
    "papermill": {
     "duration": 0.659474,
     "end_time": "2024-05-10T21:53:14.061116",
     "exception": false,
     "start_time": "2024-05-10T21:53:13.401642",
     "status": "completed"
    },
    "tags": []
   },
   "outputs": [
    {
     "data": {
      "image/png": "[encoded data removed]",
      "text/plain": [
       "<Figure size 864x360 with 2 Axes>"
      ]
     },
     "metadata": {
      "needs_background": "light"
     },
     "output_type": "display_data"
    }
   ],
   "source": [
    "plt.figure(figsize=(12, 5))\n",
    "\n",
    "# Plotting training loss\n",
    "plt.subplot(1, 2, 1)\n",
    "plt.plot(accumulated_losses, label='Training Loss', marker='o')\n",
    "plt.title('Training Loss Over Epochs Using CNN on Val Set')\n",
    "plt.xlabel('Epoch')\n",
    "plt.ylabel('Loss')\n",
    "plt.legend()\n",
    "plt.grid(True)\n",
    "\n",
    "# Plotting training accuracy\n",
    "plt.subplot(1, 2, 2)\n",
    "plt.plot(accuracy_history, label='Training Accuracy', marker='o', color='orange')\n",
    "plt.title('Training Accuracy Over Epochs Using CNN on Val Set')\n",
    "plt.xlabel('Epoch')\n",
    "plt.ylabel('Accuracy (%)')\n",
    "plt.legend()\n",
    "plt.grid(True)\n",
    "\n",
    "plt.tight_layout()\n",
    "plt.show()\n"
   ]
  },
  {
   "cell_type": "markdown",
   "id": "75d8e817",
   "metadata": {
    "papermill": {
     "duration": 0.078391,
     "end_time": "2024-05-10T21:53:14.218853",
     "exception": false,
     "start_time": "2024-05-10T21:53:14.140462",
     "status": "completed"
    },
    "tags": []
   },
   "source": [
    "# 3D CNN + RNN"
   ]
  },
  {
   "cell_type": "code",
   "execution_count": 33,
   "id": "73841bc5",
   "metadata": {
    "execution": {
     "iopub.execute_input": "2024-05-10T21:53:14.384808Z",
     "iopub.status.busy": "2024-05-10T21:53:14.384124Z",
     "iopub.status.idle": "2024-05-10T21:53:14.387017Z",
     "shell.execute_reply": "2024-05-10T21:53:14.386428Z"
    },
    "papermill": {
     "duration": 0.090983,
     "end_time": "2024-05-10T21:53:14.387166",
     "exception": false,
     "start_time": "2024-05-10T21:53:14.296183",
     "status": "completed"
    },
    "tags": []
   },
   "outputs": [],
   "source": [
    "class ThreeDNetwork(nn.Module):\n",
    "    def conv_layer(self, in_channels, out_channels, kernel_size, stride=2):\n",
    "        conv_layer = nn.Sequential(\n",
    "            nn.Conv3d(in_channels, out_channels, kernel_size, stride=stride),\n",
    "            nn.LeakyReLU(),\n",
    "            nn.MaxPool3d((2, 2, 2)),\n",
    "            nn.BatchNorm3d(out_channels))\n",
    "        return conv_layer\n",
    "    \n",
    "    def __init__(self, batch_size=BATCH_SIZE):\n",
    "        super(ThreeDNetwork, self).__init__()\n",
    "        self.batch_size = batch_size\n",
    "        self.block1 = nn.Sequential(\n",
    "            self.conv_layer(1, 64, 3, 2),\n",
    "            self.conv_layer(64, 128, 3, 2))\n",
    "        \n",
    "        # Output features for RNN\n",
    "        self.feature_extractor = nn.AdaptiveAvgPool3d((1, 1, 1))\n",
    "        \n",
    "    def forward(self, x):\n",
    "        x = self.block1(x)\n",
    "        x = self.feature_extractor(x)  # Reduce to a single value per feature map\n",
    "        x = x.view(-1, 128)  # Flatten the features for RNN\n",
    "        return x"
   ]
  },
  {
   "cell_type": "code",
   "execution_count": 34,
   "id": "575c4713",
   "metadata": {
    "execution": {
     "iopub.execute_input": "2024-05-10T21:53:14.554969Z",
     "iopub.status.busy": "2024-05-10T21:53:14.554211Z",
     "iopub.status.idle": "2024-05-10T21:53:14.564194Z",
     "shell.execute_reply": "2024-05-10T21:53:14.564701Z",
     "shell.execute_reply.started": "2024-05-06T23:33:05.727072Z"
    },
    "papermill": {
     "duration": 0.09949,
     "end_time": "2024-05-10T21:53:14.564876",
     "exception": false,
     "start_time": "2024-05-10T21:53:14.465386",
     "status": "completed"
    },
    "tags": []
   },
   "outputs": [
    {
     "name": "stdout",
     "output_type": "stream",
     "text": [
      "ThreeDCNNtoRNN(\n",
      "  (cnn): ThreeDNetwork(\n",
      "    (block1): Sequential(\n",
      "      (0): Sequential(\n",
      "        (0): Conv3d(1, 64, kernel_size=(3, 3, 3), stride=(2, 2, 2))\n",
      "        (1): LeakyReLU(negative_slope=0.01)\n",
      "        (2): MaxPool3d(kernel_size=(2, 2, 2), stride=(2, 2, 2), padding=0, dilation=1, ceil_mode=False)\n",
      "        (3): BatchNorm3d(64, eps=1e-05, momentum=0.1, affine=True, track_running_stats=True)\n",
      "      )\n",
      "      (1): Sequential(\n",
      "        (0): Conv3d(64, 128, kernel_size=(3, 3, 3), stride=(2, 2, 2))\n",
      "        (1): LeakyReLU(negative_slope=0.01)\n",
      "        (2): MaxPool3d(kernel_size=(2, 2, 2), stride=(2, 2, 2), padding=0, dilation=1, ceil_mode=False)\n",
      "        (3): BatchNorm3d(128, eps=1e-05, momentum=0.1, affine=True, track_running_stats=True)\n",
      "      )\n",
      "    )\n",
      "    (feature_extractor): AdaptiveAvgPool3d(output_size=(1, 1, 1))\n",
      "  )\n",
      "  (rnn): LSTM(128, 256, batch_first=True)\n",
      "  (fc): Linear(in_features=256, out_features=1, bias=True)\n",
      ")\n"
     ]
    }
   ],
   "source": [
    "class ThreeDCNNtoRNN(nn.Module):\n",
    "    def __init__(self, cnn_features_dim, hidden_dim, num_layers, num_classes):\n",
    "        super(ThreeDCNNtoRNN, self).__init__()\n",
    "        self.cnn = ThreeDNetwork()  # Your existing CNN\n",
    "        self.rnn = nn.LSTM(cnn_features_dim, hidden_dim, num_layers, batch_first=True)\n",
    "        self.fc = nn.Linear(hidden_dim, num_classes)\n",
    "\n",
    "    def forward(self, x):\n",
    "        batch_size, C, H, W, D = x.size()\n",
    "        c_out = self.cnn(x)\n",
    "        c_out = c_out.unsqueeze(1)  # Fake a sequence dimension for LSTM\n",
    "        r_out, _ = self.rnn(c_out)\n",
    "        r_out = r_out[:, -1, :]  # Get the last time step output\n",
    "        output = self.fc(r_out)\n",
    "        return output\n",
    "\n",
    "\n",
    "# Instantiate the model\n",
    "model = ThreeDCNNtoRNN(cnn_features_dim=128, hidden_dim=256, num_layers=1, num_classes=1)  # Update dimensions as needed\n",
    "print(model)\n"
   ]
  },
  {
   "cell_type": "markdown",
   "id": "fa177857",
   "metadata": {
    "papermill": {
     "duration": 0.080592,
     "end_time": "2024-05-10T21:53:14.727849",
     "exception": false,
     "start_time": "2024-05-10T21:53:14.647257",
     "status": "completed"
    },
    "tags": []
   },
   "source": [
    "### Training"
   ]
  },
  {
   "cell_type": "code",
   "execution_count": 35,
   "id": "d39820dc",
   "metadata": {
    "execution": {
     "iopub.execute_input": "2024-05-10T21:53:14.899427Z",
     "iopub.status.busy": "2024-05-10T21:53:14.898631Z",
     "iopub.status.idle": "2024-05-10T21:53:14.912298Z",
     "shell.execute_reply": "2024-05-10T21:53:14.911697Z",
     "shell.execute_reply.started": "2024-05-06T23:33:10.117111Z"
    },
    "papermill": {
     "duration": 0.101429,
     "end_time": "2024-05-10T21:53:14.912441",
     "exception": false,
     "start_time": "2024-05-10T21:53:14.811012",
     "status": "completed"
    },
    "tags": []
   },
   "outputs": [],
   "source": [
    "optimizer = torch.optim.Adam(model.parameters(), lr=0.001)\n",
    "\n",
    "train_criterion = nn.BCELoss()\n",
    "lr_scheduler = torch.optim.lr_scheduler.ReduceLROnPlateau(optimizer, factor=0.1, patience=4, cooldown=2, verbose=True)\n",
    "\n",
    "model = model.to(device)\n",
    "train_criterion = train_criterion.to(device)"
   ]
  },
  {
   "cell_type": "code",
   "execution_count": 36,
   "id": "dd9f5a42",
   "metadata": {
    "execution": {
     "iopub.execute_input": "2024-05-10T21:53:15.077607Z",
     "iopub.status.busy": "2024-05-10T21:53:15.076842Z",
     "iopub.status.idle": "2024-05-10T22:55:14.359026Z",
     "shell.execute_reply": "2024-05-10T22:55:14.359563Z",
     "shell.execute_reply.started": "2024-05-06T23:33:15.805604Z"
    },
    "papermill": {
     "duration": 3719.36709,
     "end_time": "2024-05-10T22:55:14.359744",
     "exception": false,
     "start_time": "2024-05-10T21:53:14.992654",
     "status": "completed"
    },
    "tags": []
   },
   "outputs": [
    {
     "name": "stdout",
     "output_type": "stream",
     "text": [
      "Epoch: 1\n",
      "Epoch 1, Training Loss: 0.6977, Training Accuracy: 48.54%\n",
      "Model performance improved. Saving the new model.\n",
      "Epoch: 2\n",
      "Epoch 2, Training Loss: 0.6959, Training Accuracy: 49.23%\n",
      "Model performance improved. Saving the new model.\n",
      "Epoch: 3\n",
      "Epoch 3, Training Loss: 0.6943, Training Accuracy: 52.66%\n",
      "Model performance improved. Saving the new model.\n",
      "Epoch: 4\n",
      "Epoch 4, Training Loss: 0.6932, Training Accuracy: 53.34%\n",
      "Model performance improved. Saving the new model.\n",
      "Epoch: 5\n",
      "Epoch 5, Training Loss: 0.6915, Training Accuracy: 54.72%\n",
      "Model performance improved. Saving the new model.\n",
      "Epoch: 6\n",
      "Epoch 6, Training Loss: 0.6885, Training Accuracy: 55.40%\n",
      "Model performance improved. Saving the new model.\n",
      "Epoch: 7\n",
      "Epoch 7, Training Loss: 0.6861, Training Accuracy: 56.60%\n",
      "Model performance improved. Saving the new model.\n",
      "Epoch: 8\n",
      "Epoch 8, Training Loss: 0.6843, Training Accuracy: 56.43%\n",
      "Model performance improved. Saving the new model.\n",
      "Epoch: 9\n",
      "Epoch 9, Training Loss: 0.6812, Training Accuracy: 57.46%\n",
      "Model performance improved. Saving the new model.\n",
      "Epoch: 10\n",
      "Epoch 10, Training Loss: 0.6784, Training Accuracy: 56.78%\n",
      "Model performance improved. Saving the new model.\n",
      "Epoch: 11\n",
      "Epoch 11, Training Loss: 0.6755, Training Accuracy: 57.98%\n",
      "Model performance improved. Saving the new model.\n",
      "Epoch: 12\n",
      "Epoch 12, Training Loss: 0.6728, Training Accuracy: 57.98%\n",
      "Model performance improved. Saving the new model.\n",
      "Epoch: 13\n",
      "Epoch 13, Training Loss: 0.6704, Training Accuracy: 59.35%\n",
      "Model performance improved. Saving the new model.\n",
      "Epoch: 14\n",
      "Epoch 14, Training Loss: 0.6680, Training Accuracy: 60.38%\n",
      "Model performance improved. Saving the new model.\n",
      "Epoch: 15\n",
      "Epoch 15, Training Loss: 0.6626, Training Accuracy: 60.03%\n",
      "Model performance improved. Saving the new model.\n",
      "Epoch: 16\n",
      "Epoch 16, Training Loss: 0.6600, Training Accuracy: 60.72%\n",
      "Model performance improved. Saving the new model.\n",
      "Epoch: 17\n",
      "Epoch 17, Training Loss: 0.6542, Training Accuracy: 61.41%\n",
      "Model performance improved. Saving the new model.\n",
      "Epoch: 18\n",
      "Epoch 18, Training Loss: 0.6466, Training Accuracy: 61.58%\n",
      "Model performance improved. Saving the new model.\n",
      "Epoch: 19\n",
      "Epoch 19, Training Loss: 0.6420, Training Accuracy: 63.29%\n",
      "Model performance improved. Saving the new model.\n",
      "Epoch: 20\n",
      "Epoch 20, Training Loss: 0.6357, Training Accuracy: 62.44%\n",
      "Model performance improved. Saving the new model.\n",
      "Epoch: 21\n",
      "Epoch 21, Training Loss: 0.6269, Training Accuracy: 63.64%\n",
      "Model performance improved. Saving the new model.\n",
      "Epoch: 22\n",
      "Epoch 22, Training Loss: 0.6212, Training Accuracy: 64.32%\n",
      "Model performance improved. Saving the new model.\n",
      "Epoch: 23\n",
      "Epoch 23, Training Loss: 0.6125, Training Accuracy: 65.35%\n",
      "Model performance improved. Saving the new model.\n",
      "Epoch: 24\n",
      "Epoch 24, Training Loss: 0.6030, Training Accuracy: 66.55%\n",
      "Model performance improved. Saving the new model.\n",
      "Epoch: 25\n",
      "Epoch 25, Training Loss: 0.5889, Training Accuracy: 67.58%\n",
      "Model performance improved. Saving the new model.\n"
     ]
    }
   ],
   "source": [
    "num_epochs = 25\n",
    "\n",
    "accumulated_losses = []\n",
    "accuracy_history = []  # To store accuracy for each epoch\n",
    "recorded_best_loss = float('inf')\n",
    "\n",
    "for current_epoch in range(num_epochs): \n",
    "    print(f'Epoch: {current_epoch + 1}')\n",
    "    batch_losses = []\n",
    "    epoch_loss_avg = 0\n",
    "    correct_predictions = 0\n",
    "    total_predictions = 0\n",
    "    \n",
    "    for imgs, labels in train_loader:\n",
    "        optimizer.zero_grad()\n",
    "        \n",
    "        labels_transformed = labels.view(-1, 1).to(torch.float).to(device)\n",
    "        imgs = imgs.float().to(device)\n",
    "        \n",
    "        predictions = model(imgs)\n",
    "        predictions = torch.sigmoid(predictions)\n",
    "        loss = train_criterion(predictions, labels_transformed)\n",
    "        \n",
    "        loss.backward()\n",
    "        optimizer.step()\n",
    "        \n",
    "        batch_losses.append(loss.item())\n",
    "\n",
    "        # For accuracy calculation, assuming binary classification and rounding predictions\n",
    "        predicted_classes = predictions.round().to(device)\n",
    "        correct_predictions += (predicted_classes == labels_transformed).sum().item()\n",
    "        total_predictions += labels_transformed.size(0)\n",
    "            \n",
    "    epoch_loss_avg = np.mean(batch_losses)\n",
    "    epoch_accuracy = (correct_predictions / total_predictions) * 100\n",
    "    accuracy_history.append(epoch_accuracy)  # Append accuracy of this epoch to the history\n",
    "    \n",
    "    print(f'Epoch {current_epoch + 1}, Training Loss: {epoch_loss_avg:.4f}, Training Accuracy: {epoch_accuracy:.2f}%')\n",
    "    \n",
    "    if epoch_loss_avg < recorded_best_loss:\n",
    "        torch.save(model.state_dict(), 'updated_model_rnn.pth')\n",
    "        print('Model performance improved. Saving the new model.')\n",
    "        recorded_best_loss = epoch_loss_avg\n",
    "        \n",
    "    lr_scheduler.step(epoch_loss_avg)\n",
    "    accumulated_losses.append(epoch_loss_avg)\n",
    "\n"
   ]
  },
  {
   "cell_type": "markdown",
   "id": "84a2146d",
   "metadata": {
    "papermill": {
     "duration": 0.085333,
     "end_time": "2024-05-10T22:55:14.536084",
     "exception": false,
     "start_time": "2024-05-10T22:55:14.450751",
     "status": "completed"
    },
    "tags": []
   },
   "source": [
    "### Testing"
   ]
  },
  {
   "cell_type": "code",
   "execution_count": 37,
   "id": "5c9aa45f",
   "metadata": {
    "execution": {
     "iopub.execute_input": "2024-05-10T22:55:14.715336Z",
     "iopub.status.busy": "2024-05-10T22:55:14.714253Z",
     "iopub.status.idle": "2024-05-10T22:55:14.724951Z",
     "shell.execute_reply": "2024-05-10T22:55:14.724419Z",
     "shell.execute_reply.started": "2024-04-30T15:30:53.015367Z"
    },
    "papermill": {
     "duration": 0.103018,
     "end_time": "2024-05-10T22:55:14.725090",
     "exception": false,
     "start_time": "2024-05-10T22:55:14.622072",
     "status": "completed"
    },
    "tags": []
   },
   "outputs": [
    {
     "data": {
      "text/plain": [
       "<All keys matched successfully>"
      ]
     },
     "execution_count": 37,
     "metadata": {},
     "output_type": "execute_result"
    }
   ],
   "source": [
    "model.load_state_dict(torch.load('updated_model_rnn.pth'))"
   ]
  },
  {
   "cell_type": "code",
   "execution_count": 38,
   "id": "62020770",
   "metadata": {
    "execution": {
     "iopub.execute_input": "2024-05-10T22:55:14.906881Z",
     "iopub.status.busy": "2024-05-10T22:55:14.903018Z",
     "iopub.status.idle": "2024-05-10T22:57:42.967191Z",
     "shell.execute_reply": "2024-05-10T22:57:42.967720Z",
     "shell.execute_reply.started": "2024-04-30T15:30:53.017094Z"
    },
    "papermill": {
     "duration": 148.157132,
     "end_time": "2024-05-10T22:57:42.967915",
     "exception": false,
     "start_time": "2024-05-10T22:55:14.810783",
     "status": "completed"
    },
    "tags": []
   },
   "outputs": [
    {
     "name": "stdout",
     "output_type": "stream",
     "text": [
      "Train Accuracy: 48.37 %\n",
      "Precision: 0.56\n",
      "Recall: 0.08\n"
     ]
    }
   ],
   "source": [
    "acc_correct = 0\n",
    "samples_total = 0\n",
    "\n",
    "true_labels = []\n",
    "predictions = []\n",
    "\n",
    "# Ensure model is in evaluation mode and gradient computation is off\n",
    "model.eval()\n",
    "with torch.no_grad():\n",
    "    for img_batch, labels in train_loader:\n",
    "        updated_labels = labels.unsqueeze(1)  # Add an extra dimension\n",
    "        updated_labels = updated_labels.to(torch.int32).to(device)\n",
    "        img_batch = img_batch.float().to(device)\n",
    "        \n",
    "        pred_logits = model(img_batch)\n",
    "        pred_probs = torch.sigmoid(pred_logits)\n",
    "        \n",
    "        # Apply a custom rounding function to predictions\n",
    "        rounded_preds = torch.tensor([[rounding(prob)] for prob in pred_probs], dtype=torch.int32).to(device)\n",
    "        \n",
    "        samples_total += len(img_batch)\n",
    "        \n",
    "        # Calculate number of correct predictions\n",
    "        correct_preds = (rounded_preds == updated_labels).sum().item()\n",
    "        acc_correct += correct_preds\n",
    "        \n",
    "        # Store predictions and labels for precision and recall calculation\n",
    "        true_labels.extend(updated_labels.cpu().numpy())\n",
    "        predictions.extend(rounded_preds.cpu().numpy())\n",
    "\n",
    "# Calculating overall accuracy\n",
    "accuracy_pct = (acc_correct / samples_total) * 100\n",
    "\n",
    "# Calculate precision and recall\n",
    "precision = precision_score(true_labels, predictions)\n",
    "recall = recall_score(true_labels, predictions)\n",
    "\n",
    "print(f'Train Accuracy: {accuracy_pct:.2f} %')\n",
    "print(f'Precision: {precision:.2f}')\n",
    "print(f'Recall: {recall:.2f}')\n"
   ]
  },
  {
   "cell_type": "code",
   "execution_count": 39,
   "id": "c64a21ce",
   "metadata": {
    "execution": {
     "iopub.execute_input": "2024-05-10T22:57:43.200838Z",
     "iopub.status.busy": "2024-05-10T22:57:43.199485Z",
     "iopub.status.idle": "2024-05-10T23:00:12.501548Z",
     "shell.execute_reply": "2024-05-10T23:00:12.502155Z",
     "shell.execute_reply.started": "2024-04-30T15:30:53.018974Z"
    },
    "papermill": {
     "duration": 149.447897,
     "end_time": "2024-05-10T23:00:12.502347",
     "exception": false,
     "start_time": "2024-05-10T22:57:43.054450",
     "status": "completed"
    },
    "tags": []
   },
   "outputs": [
    {
     "name": "stdout",
     "output_type": "stream",
     "text": [
      "Train ROC AUC: 0.56\n"
     ]
    }
   ],
   "source": [
    "from sklearn.metrics import roc_auc_score\n",
    "\n",
    "# Placeholder for true labels and prediction scores\n",
    "true_labels = []\n",
    "pred_scores = []\n",
    "\n",
    "model.eval()\n",
    "with torch.no_grad():\n",
    "    for img_batch, labels in train_loader:\n",
    "        # Ensure labels are in the correct format\n",
    "        labels = labels.to(dtype=torch.float32, device=device)\n",
    "        \n",
    "        img_batch = img_batch.to(dtype=torch.float32, device=device)\n",
    "        \n",
    "        # Get the prediction scores for the positive class\n",
    "        pred_logits = model(img_batch)\n",
    "        pred_probs = torch.sigmoid(pred_logits).squeeze().cpu().numpy()  # Assuming binary classification\n",
    "        \n",
    "        true_labels.extend(labels.squeeze().cpu().numpy())\n",
    "        pred_scores.extend(pred_probs)\n",
    "\n",
    "# Calculate the ROC AUC score\n",
    "roc_auc = roc_auc_score(true_labels, pred_scores)\n",
    "print(f'Train ROC AUC: {roc_auc:.2f}')\n"
   ]
  },
  {
   "cell_type": "code",
   "execution_count": 40,
   "id": "9b6d5870",
   "metadata": {
    "execution": {
     "iopub.execute_input": "2024-05-10T23:00:12.694194Z",
     "iopub.status.busy": "2024-05-10T23:00:12.693472Z",
     "iopub.status.idle": "2024-05-10T23:00:13.438962Z",
     "shell.execute_reply": "2024-05-10T23:00:13.439502Z",
     "shell.execute_reply.started": "2024-05-05T23:33:12.674983Z"
    },
    "papermill": {
     "duration": 0.844951,
     "end_time": "2024-05-10T23:00:13.439673",
     "exception": false,
     "start_time": "2024-05-10T23:00:12.594722",
     "status": "completed"
    },
    "tags": []
   },
   "outputs": [
    {
     "data": {
      "image/png": "[encoded data removed]",
      "text/plain": [
       "<Figure size 864x360 with 2 Axes>"
      ]
     },
     "metadata": {
      "needs_background": "light"
     },
     "output_type": "display_data"
    }
   ],
   "source": [
    "plt.figure(figsize=(12, 5))\n",
    "\n",
    "# Plotting training loss\n",
    "plt.subplot(1, 2, 1)\n",
    "plt.plot(accumulated_losses, label='Training Loss', marker='o')\n",
    "plt.title('Training Loss Over Epochs Using CNN+RNN on Val Set')\n",
    "plt.xlabel('Epoch')\n",
    "plt.ylabel('Loss')\n",
    "plt.legend()\n",
    "plt.grid(True)\n",
    "\n",
    "# Plotting training accuracy\n",
    "plt.subplot(1, 2, 2)\n",
    "plt.plot(accuracy_history, label='Training Accuracy', marker='o', color='orange')\n",
    "plt.title('Training Accuracy Over Epochs Using CNN+RNN on Val Set')\n",
    "plt.xlabel('Epoch')\n",
    "plt.ylabel('Accuracy (%)')\n",
    "plt.legend()\n",
    "plt.grid(True)\n",
    "\n",
    "plt.tight_layout()\n",
    "plt.show()\n"
   ]
  },
  {
   "cell_type": "markdown",
   "id": "21b80c78",
   "metadata": {
    "papermill": {
     "duration": 0.092868,
     "end_time": "2024-05-10T23:00:13.625017",
     "exception": false,
     "start_time": "2024-05-10T23:00:13.532149",
     "status": "completed"
    },
    "tags": []
   },
   "source": [
    "# EfficientNet"
   ]
  },
  {
   "cell_type": "code",
   "execution_count": 41,
   "id": "a09abd6e",
   "metadata": {
    "execution": {
     "iopub.execute_input": "2024-05-10T23:00:13.808731Z",
     "iopub.status.busy": "2024-05-10T23:00:13.807656Z",
     "iopub.status.idle": "2024-05-10T23:00:13.810515Z",
     "shell.execute_reply": "2024-05-10T23:00:13.809864Z",
     "shell.execute_reply.started": "2024-05-10T20:41:19.848538Z"
    },
    "papermill": {
     "duration": 0.095383,
     "end_time": "2024-05-10T23:00:13.810641",
     "exception": false,
     "start_time": "2024-05-10T23:00:13.715258",
     "status": "completed"
    },
    "tags": []
   },
   "outputs": [],
   "source": [
    "pytorch3dpath = \"/kaggle/input/efficientnet/pytorch/en/1/EfficientNet-PyTorch-3D-master\""
   ]
  },
  {
   "cell_type": "code",
   "execution_count": 42,
   "id": "4e4e6b3d",
   "metadata": {
    "execution": {
     "iopub.execute_input": "2024-05-10T23:00:13.995976Z",
     "iopub.status.busy": "2024-05-10T23:00:13.995068Z",
     "iopub.status.idle": "2024-05-10T23:00:14.025583Z",
     "shell.execute_reply": "2024-05-10T23:00:14.024947Z",
     "shell.execute_reply.started": "2024-05-10T20:41:37.363760Z"
    },
    "papermill": {
     "duration": 0.123796,
     "end_time": "2024-05-10T23:00:14.025717",
     "exception": false,
     "start_time": "2024-05-10T23:00:13.901921",
     "status": "completed"
    },
    "tags": []
   },
   "outputs": [],
   "source": [
    "import sys \n",
    "sys.path.append(pytorch3dpath)\n",
    "from efficientnet_pytorch_3d import EfficientNet3D"
   ]
  },
  {
   "cell_type": "code",
   "execution_count": 43,
   "id": "3162b64f",
   "metadata": {
    "execution": {
     "iopub.execute_input": "2024-05-10T23:00:14.229673Z",
     "iopub.status.busy": "2024-05-10T23:00:14.229020Z",
     "iopub.status.idle": "2024-05-10T23:00:14.232246Z",
     "shell.execute_reply": "2024-05-10T23:00:14.231663Z",
     "shell.execute_reply.started": "2024-05-10T20:41:38.876746Z"
    },
    "papermill": {
     "duration": 0.114724,
     "end_time": "2024-05-10T23:00:14.232386",
     "exception": false,
     "start_time": "2024-05-10T23:00:14.117662",
     "status": "completed"
    },
    "tags": []
   },
   "outputs": [],
   "source": [
    "import torch\n",
    "from torch import nn\n",
    "\n",
    "class EfficientNet3DWrapper(nn.Module):\n",
    "    def __init__(self):\n",
    "        super().__init__()\n",
    "        # Assuming EfficientNet3D.from_name is a valid constructor that can create 3D EfficientNet models\n",
    "        self.net = EfficientNet3D.from_name(\"efficientnet-b0\", override_params={'num_classes': 2}, in_channels=1)\n",
    "        n_features = self.net._fc.in_features\n",
    "        self.net._fc = nn.Linear(in_features=n_features, out_features=1, bias=True)\n",
    "    \n",
    "    def forward(self, x):\n",
    "        out = self.net(x)\n",
    "        return torch.sigmoid(out)\n"
   ]
  },
  {
   "cell_type": "markdown",
   "id": "0ade04cc",
   "metadata": {
    "papermill": {
     "duration": 0.094193,
     "end_time": "2024-05-10T23:00:14.421308",
     "exception": false,
     "start_time": "2024-05-10T23:00:14.327115",
     "status": "completed"
    },
    "tags": []
   },
   "source": [
    "### Train"
   ]
  },
  {
   "cell_type": "code",
   "execution_count": 44,
   "id": "ae2ca49d",
   "metadata": {
    "execution": {
     "iopub.execute_input": "2024-05-10T23:00:14.611280Z",
     "iopub.status.busy": "2024-05-10T23:00:14.610635Z",
     "iopub.status.idle": "2024-05-10T23:00:14.698151Z",
     "shell.execute_reply": "2024-05-10T23:00:14.697560Z",
     "shell.execute_reply.started": "2024-05-10T20:41:41.249561Z"
    },
    "papermill": {
     "duration": 0.187279,
     "end_time": "2024-05-10T23:00:14.698317",
     "exception": false,
     "start_time": "2024-05-10T23:00:14.511038",
     "status": "completed"
    },
    "tags": []
   },
   "outputs": [],
   "source": [
    "# Setup device\n",
    "device = torch.device(\"cuda\" if torch.cuda.is_available() else \"cpu\")\n",
    "\n",
    "# Initialize the model\n",
    "model = EfficientNet3DWrapper().to(device)\n",
    "\n",
    "# Print the model summary (optional, requires additional packages like torchsummary)\n",
    "# from torchsummary import summary\n",
    "# summary(model, input_size=(1, 64, 64, 64))  # Adjust the size according to your input dimensions\n"
   ]
  },
  {
   "cell_type": "code",
   "execution_count": 45,
   "id": "e45eb6d7",
   "metadata": {
    "execution": {
     "iopub.execute_input": "2024-05-10T23:00:14.884940Z",
     "iopub.status.busy": "2024-05-10T23:00:14.881345Z",
     "iopub.status.idle": "2024-05-10T23:00:14.893523Z",
     "shell.execute_reply": "2024-05-10T23:00:14.892885Z",
     "shell.execute_reply.started": "2024-05-10T20:42:38.651781Z"
    },
    "papermill": {
     "duration": 0.107562,
     "end_time": "2024-05-10T23:00:14.893676",
     "exception": false,
     "start_time": "2024-05-10T23:00:14.786114",
     "status": "completed"
    },
    "tags": []
   },
   "outputs": [],
   "source": [
    "criterion = nn.BCEWithLogitsLoss()  # Appropriate for binary classification with a single output unit\n",
    "\n",
    "optimizer = torch.optim.Adam(model.parameters(), lr=0.001)\n",
    "\n",
    "train_criterion = nn.BCELoss()\n",
    "lr_scheduler = torch.optim.lr_scheduler.ReduceLROnPlateau(optimizer, factor=0.1, patience=4, cooldown=2, verbose=True)\n",
    "\n",
    "model = model.to(device)\n",
    "train_criterion = train_criterion.to(device)"
   ]
  },
  {
   "cell_type": "code",
   "execution_count": 46,
   "id": "36498b0a",
   "metadata": {
    "execution": {
     "iopub.execute_input": "2024-05-10T23:00:15.085465Z",
     "iopub.status.busy": "2024-05-10T23:00:15.084751Z",
     "iopub.status.idle": "2024-05-11T00:09:36.365918Z",
     "shell.execute_reply": "2024-05-11T00:09:36.366502Z"
    },
    "papermill": {
     "duration": 4161.382059,
     "end_time": "2024-05-11T00:09:36.366703",
     "exception": false,
     "start_time": "2024-05-10T23:00:14.984644",
     "status": "completed"
    },
    "tags": []
   },
   "outputs": [
    {
     "name": "stdout",
     "output_type": "stream",
     "text": [
      "Epoch: 1\n",
      "Epoch 1, Training Loss: 0.7072, Training Accuracy: 52.49%\n",
      "Model performance improved. Saving the new model.\n",
      "Epoch: 2\n",
      "Epoch 2, Training Loss: 0.7237, Training Accuracy: 52.49%\n",
      "Epoch: 3\n",
      "Epoch 3, Training Loss: 0.6928, Training Accuracy: 52.49%\n",
      "Model performance improved. Saving the new model.\n",
      "Epoch: 4\n",
      "Epoch 4, Training Loss: 0.6899, Training Accuracy: 52.49%\n",
      "Model performance improved. Saving the new model.\n",
      "Epoch: 5\n",
      "Epoch 5, Training Loss: 0.6954, Training Accuracy: 52.49%\n",
      "Epoch: 6\n",
      "Epoch 6, Training Loss: 0.6957, Training Accuracy: 52.49%\n",
      "Epoch: 7\n",
      "Epoch 7, Training Loss: 0.6931, Training Accuracy: 52.49%\n",
      "Epoch: 8\n",
      "Epoch 8, Training Loss: 0.6923, Training Accuracy: 52.49%\n",
      "Epoch: 9\n",
      "Epoch 9, Training Loss: 0.6941, Training Accuracy: 52.49%\n",
      "Epoch     9: reducing learning rate of group 0 to 1.0000e-04.\n",
      "Epoch: 10\n",
      "Epoch 10, Training Loss: 0.6932, Training Accuracy: 52.49%\n",
      "Epoch: 11\n",
      "Epoch 11, Training Loss: 0.6928, Training Accuracy: 52.49%\n",
      "Epoch: 12\n",
      "Epoch 12, Training Loss: 0.6923, Training Accuracy: 52.49%\n",
      "Epoch: 13\n",
      "Epoch 13, Training Loss: 0.6924, Training Accuracy: 52.49%\n",
      "Epoch: 14\n",
      "Epoch 14, Training Loss: 0.6922, Training Accuracy: 52.49%\n",
      "Epoch: 15\n",
      "Epoch 15, Training Loss: 0.6925, Training Accuracy: 52.49%\n",
      "Epoch: 16\n",
      "Epoch 16, Training Loss: 0.6917, Training Accuracy: 52.49%\n",
      "Epoch    16: reducing learning rate of group 0 to 1.0000e-05.\n",
      "Epoch: 17\n",
      "Epoch 17, Training Loss: 0.6918, Training Accuracy: 52.49%\n",
      "Epoch: 18\n",
      "Epoch 18, Training Loss: 0.6910, Training Accuracy: 52.49%\n",
      "Epoch: 19\n",
      "Epoch 19, Training Loss: 0.6887, Training Accuracy: 52.49%\n",
      "Model performance improved. Saving the new model.\n",
      "Epoch: 20\n",
      "Epoch 20, Training Loss: 0.6911, Training Accuracy: 52.49%\n",
      "Epoch: 21\n",
      "Epoch 21, Training Loss: 0.6871, Training Accuracy: 52.49%\n",
      "Model performance improved. Saving the new model.\n",
      "Epoch: 22\n",
      "Epoch 22, Training Loss: 0.6893, Training Accuracy: 52.49%\n",
      "Epoch: 23\n",
      "Epoch 23, Training Loss: 0.6927, Training Accuracy: 52.49%\n",
      "Epoch: 24\n",
      "Epoch 24, Training Loss: 0.6916, Training Accuracy: 52.49%\n",
      "Epoch: 25\n",
      "Epoch 25, Training Loss: 0.6889, Training Accuracy: 52.49%\n"
     ]
    }
   ],
   "source": [
    "num_epochs = 25\n",
    "\n",
    "accumulated_losses = []\n",
    "accuracy_history = []  # To store accuracy for each epoch\n",
    "recorded_best_loss = float('inf')\n",
    "\n",
    "for current_epoch in range(num_epochs): \n",
    "    print(f'Epoch: {current_epoch + 1}')\n",
    "    batch_losses = []\n",
    "    epoch_loss_avg = 0\n",
    "    correct_predictions = 0\n",
    "    total_predictions = 0\n",
    "    \n",
    "    for imgs, labels in train_loader:\n",
    "        optimizer.zero_grad()\n",
    "        \n",
    "        labels_transformed = labels.view(-1, 1).to(torch.float).to(device)\n",
    "        imgs = imgs.float().to(device)\n",
    "        \n",
    "        predictions = model(imgs)\n",
    "        predictions = torch.sigmoid(predictions)\n",
    "        loss = train_criterion(predictions, labels_transformed)\n",
    "        \n",
    "        loss.backward()\n",
    "        optimizer.step()\n",
    "        \n",
    "        batch_losses.append(loss.item())\n",
    "\n",
    "        # For accuracy calculation, assuming binary classification and rounding predictions\n",
    "        predicted_classes = predictions.round().to(device)\n",
    "        correct_predictions += (predicted_classes == labels_transformed).sum().item()\n",
    "        total_predictions += labels_transformed.size(0)\n",
    "            \n",
    "    epoch_loss_avg = np.mean(batch_losses)\n",
    "    epoch_accuracy = (correct_predictions / total_predictions) * 100\n",
    "    accuracy_history.append(epoch_accuracy)  # Append accuracy of this epoch to the history\n",
    "    \n",
    "    print(f'Epoch {current_epoch + 1}, Training Loss: {epoch_loss_avg:.4f}, Training Accuracy: {epoch_accuracy:.2f}%')\n",
    "    \n",
    "    if epoch_loss_avg < recorded_best_loss:\n",
    "        torch.save(model.state_dict(), 'updated_model_en.pth')\n",
    "        print('Model performance improved. Saving the new model.')\n",
    "        recorded_best_loss = epoch_loss_avg\n",
    "        \n",
    "    lr_scheduler.step(epoch_loss_avg)\n",
    "    accumulated_losses.append(epoch_loss_avg)\n",
    "\n"
   ]
  },
  {
   "cell_type": "markdown",
   "id": "4a8e1619",
   "metadata": {
    "papermill": {
     "duration": 0.103905,
     "end_time": "2024-05-11T00:09:36.570750",
     "exception": false,
     "start_time": "2024-05-11T00:09:36.466845",
     "status": "completed"
    },
    "tags": []
   },
   "source": [
    "### Test"
   ]
  },
  {
   "cell_type": "code",
   "execution_count": 47,
   "id": "a4a324ca",
   "metadata": {
    "execution": {
     "iopub.execute_input": "2024-05-11T00:09:36.777720Z",
     "iopub.status.busy": "2024-05-11T00:09:36.776983Z",
     "iopub.status.idle": "2024-05-11T00:09:36.871433Z",
     "shell.execute_reply": "2024-05-11T00:09:36.870732Z"
    },
    "papermill": {
     "duration": 0.198352,
     "end_time": "2024-05-11T00:09:36.871585",
     "exception": false,
     "start_time": "2024-05-11T00:09:36.673233",
     "status": "completed"
    },
    "tags": []
   },
   "outputs": [
    {
     "data": {
      "text/plain": [
       "<All keys matched successfully>"
      ]
     },
     "execution_count": 47,
     "metadata": {},
     "output_type": "execute_result"
    }
   ],
   "source": [
    "model.load_state_dict(torch.load('updated_model_en.pth'))"
   ]
  },
  {
   "cell_type": "code",
   "execution_count": 48,
   "id": "afa78042",
   "metadata": {
    "execution": {
     "iopub.execute_input": "2024-05-11T00:09:37.091550Z",
     "iopub.status.busy": "2024-05-11T00:09:37.090049Z",
     "iopub.status.idle": "2024-05-11T00:12:10.473323Z",
     "shell.execute_reply": "2024-05-11T00:12:10.473890Z"
    },
    "papermill": {
     "duration": 153.500369,
     "end_time": "2024-05-11T00:12:10.474091",
     "exception": false,
     "start_time": "2024-05-11T00:09:36.973722",
     "status": "completed"
    },
    "tags": []
   },
   "outputs": [
    {
     "name": "stdout",
     "output_type": "stream",
     "text": [
      "Train Accuracy: 52.49 %\n",
      "Precision: 0.52\n",
      "Recall: 1.00\n"
     ]
    }
   ],
   "source": [
    "import torch\n",
    "\n",
    "# Necessary imports for precision and recall calculation\n",
    "from sklearn.metrics import precision_score, recall_score\n",
    "\n",
    "acc_correct = 0\n",
    "samples_total = 0\n",
    "\n",
    "true_labels = []\n",
    "predictions = []\n",
    "\n",
    "# Ensure model is in evaluation mode and gradient computation is off\n",
    "model.eval()\n",
    "with torch.no_grad():\n",
    "    for img_batch, labels in train_loader:\n",
    "        updated_labels = labels.unsqueeze(1)  # Add an extra dimension\n",
    "        updated_labels = updated_labels.to(torch.int32).to(device)\n",
    "        img_batch = img_batch.float().to(device)\n",
    "        \n",
    "        pred_logits = model(img_batch)\n",
    "        pred_probs = torch.sigmoid(pred_logits)\n",
    "        \n",
    "        # Apply a custom rounding function to predictions\n",
    "        rounded_preds = torch.tensor([[rounding(prob)] for prob in pred_probs], dtype=torch.int32).to(device)\n",
    "        \n",
    "        samples_total += len(img_batch)\n",
    "        \n",
    "        # Calculate number of correct predictions\n",
    "        correct_preds = (rounded_preds == updated_labels).sum().item()\n",
    "        acc_correct += correct_preds\n",
    "        \n",
    "        # Store predictions and labels for precision and recall calculation\n",
    "        true_labels.extend(updated_labels.cpu().numpy())\n",
    "        predictions.extend(rounded_preds.cpu().numpy())\n",
    "\n",
    "# Calculating overall accuracy\n",
    "accuracy_pct = (acc_correct / samples_total) * 100\n",
    "\n",
    "# Calculate precision and recall\n",
    "precision = precision_score(true_labels, predictions)\n",
    "recall = recall_score(true_labels, predictions)\n",
    "\n",
    "print(f'Train Accuracy: {accuracy_pct:.2f} %')\n",
    "print(f'Precision: {precision:.2f}')\n",
    "print(f'Recall: {recall:.2f}')\n"
   ]
  },
  {
   "cell_type": "code",
   "execution_count": 49,
   "id": "6a653fab",
   "metadata": {
    "execution": {
     "iopub.execute_input": "2024-05-11T00:12:10.682056Z",
     "iopub.status.busy": "2024-05-11T00:12:10.680343Z",
     "iopub.status.idle": "2024-05-11T00:14:39.932848Z",
     "shell.execute_reply": "2024-05-11T00:14:39.933463Z"
    },
    "papermill": {
     "duration": 149.360927,
     "end_time": "2024-05-11T00:14:39.933650",
     "exception": false,
     "start_time": "2024-05-11T00:12:10.572723",
     "status": "completed"
    },
    "tags": []
   },
   "outputs": [
    {
     "name": "stdout",
     "output_type": "stream",
     "text": [
      "Train ROC AUC: 0.56\n"
     ]
    }
   ],
   "source": [
    "from sklearn.metrics import roc_auc_score\n",
    "\n",
    "# Placeholder for true labels and prediction scores\n",
    "true_labels = []\n",
    "pred_scores = []\n",
    "\n",
    "model.eval()\n",
    "with torch.no_grad():\n",
    "    for img_batch, labels in train_loader:\n",
    "        # Ensure labels are in the correct format\n",
    "        labels = labels.to(dtype=torch.float32, device=device)\n",
    "        \n",
    "        img_batch = img_batch.to(dtype=torch.float32, device=device)\n",
    "        \n",
    "        # Get the prediction scores for the positive class\n",
    "        pred_logits = model(img_batch)\n",
    "        pred_probs = torch.sigmoid(pred_logits).squeeze().cpu().numpy()  # Assuming binary classification\n",
    "        \n",
    "        true_labels.extend(labels.squeeze().cpu().numpy())\n",
    "        pred_scores.extend(pred_probs)\n",
    "\n",
    "# Calculate the ROC AUC score\n",
    "roc_auc = roc_auc_score(true_labels, pred_scores)\n",
    "print(f'Train ROC AUC: {roc_auc:.2f}')\n"
   ]
  },
  {
   "cell_type": "code",
   "execution_count": 50,
   "id": "c5e950fc",
   "metadata": {
    "execution": {
     "iopub.execute_input": "2024-05-11T00:14:40.166282Z",
     "iopub.status.busy": "2024-05-11T00:14:40.141875Z",
     "iopub.status.idle": "2024-05-11T00:14:40.764154Z",
     "shell.execute_reply": "2024-05-11T00:14:40.764758Z"
    },
    "papermill": {
     "duration": 0.731923,
     "end_time": "2024-05-11T00:14:40.764993",
     "exception": false,
     "start_time": "2024-05-11T00:14:40.033070",
     "status": "completed"
    },
    "tags": []
   },
   "outputs": [
    {
     "data": {
      "image/png": "[encoded data removed]",
      "text/plain": [
       "<Figure size 864x360 with 2 Axes>"
      ]
     },
     "metadata": {
      "needs_background": "light"
     },
     "output_type": "display_data"
    }
   ],
   "source": [
    "plt.figure(figsize=(12, 5))\n",
    "\n",
    "# Plotting training loss\n",
    "plt.subplot(1, 2, 1)\n",
    "plt.plot(accumulated_losses, label='Training Loss', marker='o')\n",
    "plt.title('Training Loss Over Epochs Using EfficientNet on Val Set')\n",
    "plt.xlabel('Epoch')\n",
    "plt.ylabel('Loss')\n",
    "plt.legend()\n",
    "plt.grid(True)\n",
    "\n",
    "# Plotting training accuracy\n",
    "plt.subplot(1, 2, 2)\n",
    "plt.plot(accuracy_history, label='Training Accuracy', marker='o', color='orange')\n",
    "plt.title('Training Accuracy Over Epochs Using EfficientNet on Val Set')\n",
    "plt.xlabel('Epoch')\n",
    "plt.ylabel('Accuracy (%)')\n",
    "plt.legend()\n",
    "plt.grid(True)\n",
    "\n",
    "plt.tight_layout()\n",
    "plt.show()\n"
   ]
  },
  {
   "cell_type": "markdown",
   "id": "fbe7ff18",
   "metadata": {
    "papermill": {
     "duration": 0.097945,
     "end_time": "2024-05-11T00:14:40.964011",
     "exception": false,
     "start_time": "2024-05-11T00:14:40.866066",
     "status": "completed"
    },
    "tags": []
   },
   "source": [
    "References:\n",
    "https://www.kaggle.com/ammarnassanalhajali/brain-tumor-3d-training\n",
    "https://www.kaggle.com/code/vexxingbanana/simple-pytorch-cnn"
   ]
  }
 ],
 "metadata": {
  "kaggle": {
   "accelerator": "gpu",
   "dataSources": [
    {
     "databundleVersionId": 2420395,
     "sourceId": 29653,
     "sourceType": "competition"
    },
    {
     "sourceId": 76358302,
     "sourceType": "kernelVersion"
    },
    {
     "modelInstanceId": 37004,
     "sourceId": 44065,
     "sourceType": "modelInstanceVersion"
    }
   ],
   "dockerImageVersionId": 30132,
   "isGpuEnabled": true,
   "isInternetEnabled": true,
   "language": "python",
   "sourceType": "notebook"
  },
  "kernelspec": {
   "display_name": "Python 3",
   "language": "python",
   "name": "python3"
  },
  "language_info": {
   "codemirror_mode": {
    "name": "ipython",
    "version": 3
   },
   "file_extension": ".py",
   "mimetype": "text/x-python",
   "name": "python",
   "nbconvert_exporter": "python",
   "pygments_lexer": "ipython3",
   "version": "3.7.10"
  },
  "papermill": {
   "default_parameters": {},
   "duration": 12679.916392,
   "end_time": "2024-05-11T00:14:42.754991",
   "environment_variables": {},
   "exception": null,
   "input_path": "__notebook__.ipynb",
   "output_path": "__notebook__.ipynb",
   "parameters": {},
   "start_time": "2024-05-10T20:43:22.838599",
   "version": "2.3.3"
  }
 },
 "nbformat": 4,
 "nbformat_minor": 5
}
